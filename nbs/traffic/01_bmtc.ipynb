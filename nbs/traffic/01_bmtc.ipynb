{
 "cells": [
  {
   "cell_type": "markdown",
   "id": "0218836d",
   "metadata": {},
   "source": [
    "# 1. BMTC"
   ]
  },
  {
   "cell_type": "code",
   "execution_count": null,
   "id": "8cb7247d",
   "metadata": {},
   "outputs": [],
   "source": [
    "%load_ext autoreload\n",
    "%autoreload 2"
   ]
  },
  {
   "cell_type": "code",
   "execution_count": null,
   "id": "6b5f85c8",
   "metadata": {},
   "outputs": [],
   "source": [
    "#| default_exp traffic.bmtc"
   ]
  },
  {
   "cell_type": "code",
   "execution_count": null,
   "id": "5029e64c",
   "metadata": {},
   "outputs": [],
   "source": [
    "#| hide\n",
    "from nbdev.showdoc import *"
   ]
  },
  {
   "cell_type": "code",
   "execution_count": null,
   "id": "b080e5c6",
   "metadata": {},
   "outputs": [],
   "source": [
    "#| export\n",
    "import string\n",
    "import json\n",
    "import time\n",
    "import datetime\n",
    "from tqdm import tqdm\n",
    "\n",
    "import requests\n",
    "import pandas as pd\n",
    "from fastcore.all import Path\n",
    "from traffic_data_bengaluru.utils import *\n",
    "from traffic_data_bengaluru.bmtc.apis.route_details import *\n",
    "from nbdev.config import get_config"
   ]
  },
  {
   "cell_type": "code",
   "execution_count": null,
   "id": "d8699df8",
   "metadata": {},
   "outputs": [],
   "source": [
    "#| export\n",
    "import logging\n",
    "logging.basicConfig(\n",
    "    level=logging.INFO,\n",
    "    format=\"%(asctime)s [%(levelname)s] %(message)s\"\n",
    ")\n",
    "logger = logging.getLogger(__name__)"
   ]
  },
  {
   "cell_type": "code",
   "execution_count": null,
   "id": "9ec696e2",
   "metadata": {},
   "outputs": [],
   "source": [
    "#| hide\n",
    "#| eval: false\n",
    "data_directory = get_data_directory() / \"bmtc\""
   ]
  },
  {
   "cell_type": "code",
   "execution_count": null,
   "id": "4531ebf2",
   "metadata": {},
   "outputs": [],
   "source": []
  },
  {
   "cell_type": "code",
   "execution_count": null,
   "id": "d617070e",
   "metadata": {},
   "outputs": [],
   "source": [
    "#| hide\n",
    "#| eval: false\n",
    "\n",
    "map_data = pd.DataFrame()\n",
    "\n",
    "directory = data_directory / 'raw/route_details_v2/1066/'\n",
    "files = directory.ls()\n",
    "for file in tqdm(files, total = len(files), desc = 'Processing route details'):\n",
    "    file_data = extract_map_data(read_file(file)) \\\n",
    "        .rename(columns = {\n",
    "            'vehiclenumber': 'vehicle',\n",
    "            'centerlat': 'latitude',\n",
    "            'centerlong': 'longitude',\n",
    "            'lastrefreshon': 'ts'\n",
    "        }) \\\n",
    "        [['ts', 'vehicle', 'latitude', 'longitude']]\n",
    "    map_data = pd.concat([map_data, file_data])"
   ]
  },
  {
   "cell_type": "code",
   "execution_count": null,
   "id": "9d72302e",
   "metadata": {},
   "outputs": [],
   "source": [
    "#| hide\n",
    "#| eval: false\n",
    "\n",
    "# Drop duplicates considering all columns\n",
    "map_data = map_data.drop_duplicates()\n",
    "map_data['ts'] = pd.to_datetime(map_data['ts'])\n",
    "map_data = map_data[map_data['ts'] <= datetime.datetime.now()]\n",
    "\n",
    "map_data.to_csv('~/Desktop/temp.csv', index=False)\n",
    "\n",
    "print(map_data.shape)\n",
    "map_data.head()"
   ]
  },
  {
   "cell_type": "code",
   "execution_count": null,
   "id": "16f5f091",
   "metadata": {},
   "outputs": [],
   "source": []
  },
  {
   "cell_type": "code",
   "execution_count": null,
   "id": "c7740de3",
   "metadata": {},
   "outputs": [],
   "source": [
    "#| hide\n",
    "import nbdev; nbdev.nbdev_export()"
   ]
  },
  {
   "cell_type": "code",
   "execution_count": null,
   "id": "7d0e6d33",
   "metadata": {},
   "outputs": [],
   "source": []
  }
 ],
 "metadata": {
  "kernelspec": {
   "display_name": "python3",
   "language": "python",
   "name": "python3"
  }
 },
 "nbformat": 4,
 "nbformat_minor": 5
}

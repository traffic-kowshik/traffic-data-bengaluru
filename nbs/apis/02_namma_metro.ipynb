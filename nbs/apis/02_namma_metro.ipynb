{
 "cells": [
  {
   "cell_type": "markdown",
   "id": "5b52711b",
   "metadata": {},
   "source": [
    "# 2. Namma Metro"
   ]
  },
  {
   "cell_type": "code",
   "execution_count": null,
   "id": "2e24890a",
   "metadata": {},
   "outputs": [],
   "source": [
    "%load_ext autoreload\n",
    "%autoreload 2"
   ]
  },
  {
   "cell_type": "code",
   "execution_count": null,
   "id": "6ad6d63e",
   "metadata": {},
   "outputs": [],
   "source": [
    "#| default_exp apis.namma_metro"
   ]
  },
  {
   "cell_type": "code",
   "execution_count": null,
   "id": "b191de42",
   "metadata": {},
   "outputs": [],
   "source": [
    "#| hide\n",
    "\n",
    "from nbdev.showdoc import *"
   ]
  },
  {
   "cell_type": "code",
   "execution_count": null,
   "id": "57c15550",
   "metadata": {},
   "outputs": [],
   "source": [
    "#| export\n",
    "import pandas as pd\n",
    "\n",
    "from fastapi import APIRouter\n",
    "from fastapi import FastAPI\n",
    "\n",
    "from traffic_data_bengaluru.utils import *\n",
    "from traffic_data_bengaluru.namma_metro.ridership import get_ridership"
   ]
  },
  {
   "cell_type": "code",
   "execution_count": null,
   "id": "f1104113",
   "metadata": {},
   "outputs": [],
   "source": [
    "#| export\n",
    "router = APIRouter(prefix=\"/metro\", tags=[\"Namma Metro\"])\n",
    "\n",
    "@router.get(\"/ridership\")\n",
    "def ridership():\n",
    "    data_directory = get_data_directory()\n",
    "    ridership = get_ridership(data_directory)\n",
    "\n",
    "    ridership['ridership_date'] = pd.to_datetime(ridership['ridership_date']).dt.strftime('%Y-%m-%d (%a)')\n",
    "    return ridership.to_dict(orient=\"records\")"
   ]
  },
  {
   "cell_type": "code",
   "execution_count": null,
   "id": "527a3c31",
   "metadata": {},
   "outputs": [],
   "source": [
    "#| hide\n",
    "#| eval: false\n",
    "\n",
    "ridership()"
   ]
  },
  {
   "cell_type": "code",
   "execution_count": null,
   "id": "393f89ed",
   "metadata": {},
   "outputs": [],
   "source": []
  },
  {
   "cell_type": "code",
   "execution_count": null,
   "id": "f97847a4",
   "metadata": {},
   "outputs": [],
   "source": []
  },
  {
   "cell_type": "code",
   "execution_count": null,
   "id": "891958e8",
   "metadata": {},
   "outputs": [],
   "source": [
    "#| hide\n",
    "import nbdev; nbdev.nbdev_export()"
   ]
  },
  {
   "cell_type": "code",
   "execution_count": null,
   "id": "5dd9646f",
   "metadata": {},
   "outputs": [],
   "source": []
  }
 ],
 "metadata": {
  "kernelspec": {
   "display_name": "python3",
   "language": "python",
   "name": "python3"
  }
 },
 "nbformat": 4,
 "nbformat_minor": 5
}

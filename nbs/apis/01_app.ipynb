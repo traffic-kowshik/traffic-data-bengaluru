{
 "cells": [
  {
   "cell_type": "markdown",
   "id": "b540a574",
   "metadata": {},
   "source": [
    "# 01. App"
   ]
  },
  {
   "cell_type": "code",
   "execution_count": null,
   "id": "d21ae074",
   "metadata": {},
   "outputs": [],
   "source": [
    "#| default_exp apis.app"
   ]
  },
  {
   "cell_type": "code",
   "execution_count": null,
   "id": "40d67f82",
   "metadata": {},
   "outputs": [],
   "source": [
    "#| export\n",
    "from fastapi import FastAPI\n",
    "from traffic_data_bengaluru.apis.namma_metro import router as metro_router"
   ]
  },
  {
   "cell_type": "code",
   "execution_count": null,
   "id": "dadf8b94",
   "metadata": {},
   "outputs": [],
   "source": [
    "#| export\n",
    "\n",
    "app = FastAPI(title=\"Namma Traffic API\")\n",
    "app.include_router(metro_router)\n",
    "\n",
    "@app.get(\"/\")\n",
    "def root():\n",
    "    return {\"message\": \"Welcome to Namma Traffic API\"}"
   ]
  },
  {
   "cell_type": "code",
   "execution_count": null,
   "id": "01cd2457",
   "metadata": {},
   "outputs": [],
   "source": [
    "#| hide\n",
    "import nbdev; nbdev.nbdev_export()"
   ]
  },
  {
   "cell_type": "code",
   "execution_count": null,
   "id": "3f9cb63c",
   "metadata": {},
   "outputs": [],
   "source": []
  },
  {
   "cell_type": "code",
   "execution_count": null,
   "id": "3370acaf",
   "metadata": {},
   "outputs": [],
   "source": []
  }
 ],
 "metadata": {
  "kernelspec": {
   "display_name": "python3",
   "language": "python",
   "name": "python3"
  }
 },
 "nbformat": 4,
 "nbformat_minor": 5
}

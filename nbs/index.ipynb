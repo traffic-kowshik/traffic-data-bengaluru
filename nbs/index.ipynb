{
 "cells": [
  {
   "cell_type": "code",
   "execution_count": null,
   "metadata": {},
   "outputs": [],
   "source": []
  },
  {
   "cell_type": "markdown",
   "metadata": {},
   "source": [
    "# Traffic Data Bengaluru\n",
    "\n",
    "> Datasets on traffic and mobility in Bengaluru."
   ]
  },
  {
   "cell_type": "code",
   "execution_count": null,
   "metadata": {},
   "outputs": [],
   "source": []
  },
  {
   "cell_type": "markdown",
   "metadata": {},
   "source": [
    "## Quickstart\n",
    "\n",
    "```bash\n",
    "# Clone the repository.\n",
    "git clone https://github.com/traffic-kowshik/traffic-data-bengaluru.git\n",
    "cd traffic-data-bengaluru\n",
    "\n",
    "# Create a virtual environment and install the required packages.\n",
    "python3 -m venv .venv\n",
    "source .venv/bin/activate\n",
    "pip install --upgrade pip\n",
    "pip install -e .\n",
    "\n",
    "# Fetch routes from BMTC.\n",
    "cd traffic-data-bengaluru\n",
    "python -m cli bmtc_fetch_routes\n",
    "```"
   ]
  },
  {
   "cell_type": "code",
   "execution_count": null,
   "metadata": {},
   "outputs": [],
   "source": []
  },
  {
   "cell_type": "markdown",
   "metadata": {},
   "source": [
    "## Developer Guide\n",
    "\n",
    "\n",
    "```bash\n",
    "# Compile to have changes applied to the package.\n",
    "nbdev_prepare\n",
    "\n",
    "# Preview the changes in the browser.\n",
    "nbdev_preview\n",
    "```"
   ]
  },
  {
   "cell_type": "code",
   "execution_count": null,
   "metadata": {},
   "outputs": [],
   "source": []
  }
 ],
 "metadata": {
  "kernelspec": {
   "display_name": "python3",
   "language": "python",
   "name": "python3"
  }
 },
 "nbformat": 4,
 "nbformat_minor": 4
}

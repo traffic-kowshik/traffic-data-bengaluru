{
 "cells": [
  {
   "cell_type": "markdown",
   "id": "9799ec49",
   "metadata": {},
   "source": [
    "# BMTC\n",
    "\n",
    "> Bengaluru Metropolitan Transport Corporation (BMTC) is a state-owned public road transport corporation in the Indian city of Bengaluru."
   ]
  },
  {
   "cell_type": "code",
   "execution_count": null,
   "id": "f6d37e00",
   "metadata": {},
   "outputs": [],
   "source": [
    "#| default_exp bmtc"
   ]
  },
  {
   "cell_type": "code",
   "execution_count": null,
   "id": "d0b1b226",
   "metadata": {},
   "outputs": [],
   "source": [
    "#| hide\n",
    "from nbdev.showdoc import *"
   ]
  },
  {
   "cell_type": "code",
   "execution_count": null,
   "id": "3fed9355",
   "metadata": {},
   "outputs": [],
   "source": [
    "#| export\n",
    "import string\n",
    "import json\n",
    "import time\n",
    "from pathlib import Path\n",
    "import datetime\n",
    "\n",
    "import logging\n",
    "logging.basicConfig(\n",
    "    level=logging.INFO,\n",
    "    format=\"%(asctime)s - %(levelname)s - %(message)s\"\n",
    ")\n",
    "\n",
    "import requests\n",
    "import pandas as pd"
   ]
  },
  {
   "cell_type": "code",
   "execution_count": null,
   "id": "0d35502d",
   "metadata": {},
   "outputs": [],
   "source": [
    "#| hide\n",
    "\n",
    "# Inside the data directory, there is a directory to store BMTC data.\n",
    "data_directory = Path('../data/bmtc/')\n",
    "data_directory.mkdir(exist_ok=True, parents=True)"
   ]
  },
  {
   "cell_type": "code",
   "execution_count": null,
   "id": "e461a3c0",
   "metadata": {},
   "outputs": [],
   "source": []
  },
  {
   "cell_type": "markdown",
   "id": "96e65b70",
   "metadata": {},
   "source": [
    "# Routes"
   ]
  },
  {
   "cell_type": "code",
   "execution_count": null,
   "id": "aad284bf",
   "metadata": {},
   "outputs": [],
   "source": [
    "#| export\n",
    "def fetch_routes(pattern: str = \"\"):\n",
    "    logging.info(f\"Fetching routes for pattern = '{pattern}'\")\n",
    "    url = \"https://bmtcmobileapi.karnataka.gov.in/WebAPI/SearchRoute_v2\"\n",
    "\n",
    "    headers = {\n",
    "        \"Content-Type\": \"application/json\",\n",
    "        \"User-Agent\": \"Mozilla/5.0 (Macintosh; Intel Mac OS X 10_15_7) AppleWebKit/537.36 (KHTML, like Gecko) Chrome/138.0.0.0 Safari/537.36\",\n",
    "        \"lan\": \"en\"\n",
    "    }\n",
    "\n",
    "    if pattern != '':\n",
    "        payload = {\"routetext\": pattern}\n",
    "        try:\n",
    "            response = requests.post(url, headers=headers, json=payload)\n",
    "            response.raise_for_status()\n",
    "            return response.json()['data']\n",
    "        except requests.exceptions.RequestException as e:\n",
    "            print(f\"Error: {e}\")\n",
    "            return None\n",
    "    else:\n",
    "        routes = []\n",
    "        characters = string.digits + string.ascii_lowercase\n",
    "        for pattern in characters:\n",
    "            time.sleep(0.1)\n",
    "            routes += fetch_routes(pattern)\n",
    "        return routes"
   ]
  },
  {
   "cell_type": "code",
   "execution_count": null,
   "id": "79af2bc7",
   "metadata": {},
   "outputs": [],
   "source": [
    "#| hide\n",
    "routes = fetch_routes()\n",
    "\n",
    "# De-duplicate to get unique routes.\n",
    "routes_df = pd.DataFrame(routes)\n",
    "routes_df = routes_df.drop_duplicates(subset=[\"routeno\"], keep=\"first\")\n",
    "\n",
    "routes_df.to_csv(data_directory / 'raw' / 'routes.csv', index=False)\n",
    "\n",
    "print(routes_df.shape)\n",
    "routes_df.head(3)"
   ]
  },
  {
   "cell_type": "code",
   "execution_count": null,
   "id": "0dcbb105",
   "metadata": {},
   "outputs": [],
   "source": [
    "#| hide\n",
    "routes_df = pd.read_csv(data_directory / 'raw' / 'routes.csv')\n",
    "\n",
    "routes_df = routes_df \\\n",
    "    .rename(columns={'routeparentid': 'route_parent_id', 'routeno': 'route_number'})[['route_number', 'route_parent_id']] \\\n",
    "    .sort_values(by = 'route_number') \\\n",
    "    .reset_index(drop = True)\n",
    "\n",
    "routes_df.to_csv(data_directory / 'cleaned' / 'routes.csv', index=False)\n",
    "\n",
    "print(routes_df.shape)\n",
    "routes_df.head(3)"
   ]
  },
  {
   "cell_type": "code",
   "execution_count": null,
   "id": "ac2ca1e4",
   "metadata": {},
   "outputs": [],
   "source": []
  },
  {
   "cell_type": "code",
   "execution_count": null,
   "id": "250f4a3e",
   "metadata": {},
   "outputs": [],
   "source": []
  },
  {
   "cell_type": "markdown",
   "id": "e6f41f3a",
   "metadata": {},
   "source": [
    "# Route Points"
   ]
  },
  {
   "cell_type": "code",
   "execution_count": null,
   "id": "c901dccf",
   "metadata": {},
   "outputs": [],
   "source": [
    "#| export\n",
    "def fetch_route_points(route_id: str):\n",
    "    time.sleep(0.1)\n",
    "    logging.info(f\"Fetching route points for route ID = '{route_id}'\")\n",
    "    url = \"https://bmtcmobileapi.karnataka.gov.in/WebAPI/RoutePoints\"\n",
    "\n",
    "    headers = {\n",
    "        \"Content-Type\": \"application/json\",\n",
    "        \"User-Agent\": \"Mozilla/5.0 (Macintosh; Intel Mac OS X 10_15_7) AppleWebKit/537.36 (KHTML, like Gecko) Chrome/138.0.0.0 Safari/537.36\",\n",
    "        \"lan\": \"en\"\n",
    "    }\n",
    "\n",
    "    payload = {\"routeid\": route_id}\n",
    "    try:\n",
    "        response = requests.post(url, headers=headers, json=payload)\n",
    "        response.raise_for_status()\n",
    "        return response.json()\n",
    "    except requests.exceptions.RequestException as e:\n",
    "        print(f\"Error: {e}\")\n",
    "        return None"
   ]
  },
  {
   "cell_type": "code",
   "execution_count": null,
   "id": "561e270a",
   "metadata": {},
   "outputs": [],
   "source": []
  },
  {
   "cell_type": "markdown",
   "id": "de0fb5d1",
   "metadata": {},
   "source": [
    "# Vehicles"
   ]
  },
  {
   "cell_type": "code",
   "execution_count": null,
   "id": "6058bda7",
   "metadata": {},
   "outputs": [],
   "source": [
    "#| export\n",
    "def fetch_vehicles(pattern: str = \"\"):\n",
    "    time.sleep(0.1)\n",
    "    logging.info(f\"Fetching vehicles for pattern = '{pattern}'\")\n",
    "    url = \"https://bmtcmobileapi.karnataka.gov.in/WebAPI/ListVehicles\"\n",
    "\n",
    "    headers = {\n",
    "        \"Content-Type\": \"application/json\",\n",
    "        \"User-Agent\": \"Mozilla/5.0 (Macintosh; Intel Mac OS X 10_15_7) AppleWebKit/537.36 (KHTML, like Gecko) Chrome/138.0.0.0 Safari/537.36\",\n",
    "        \"lan\": \"en\"\n",
    "    }\n",
    "\n",
    "    if pattern != '':\n",
    "        payload = {\"vehicleRegNo\": pattern}\n",
    "        try:\n",
    "            response = requests.post(url, headers=headers, json=payload)\n",
    "            response.raise_for_status()\n",
    "            return response.json()['data']\n",
    "        except requests.exceptions.RequestException as e:\n",
    "            print(f\"Error: {e}\")\n",
    "            return None\n",
    "    else:\n",
    "        vehicles = []\n",
    "        characters = string.digits + string.ascii_lowercase\n",
    "        for pattern in characters:\n",
    "            time.sleep(0.1)\n",
    "            vehicles += fetch_vehicles(pattern)\n",
    "        return vehicles"
   ]
  },
  {
   "cell_type": "code",
   "execution_count": null,
   "id": "fbd52b0d",
   "metadata": {},
   "outputs": [],
   "source": [
    "#| hide\n",
    "vehicles = fetch_vehicles()\n",
    "\n",
    "# De-duplicate to get unique vehicles.\n",
    "vehicles_df = pd.DataFrame(vehicles)\n",
    "vehicles_df = vehicles_df.drop_duplicates(subset=[\"vehicleregno\"], keep=\"first\")\n",
    "\n",
    "vehicles_df.to_csv(data_directory / 'raw' / 'vehicles.csv', index=False)\n",
    "print(vehicles_df.shape)\n",
    "vehicles_df.head(3)"
   ]
  },
  {
   "cell_type": "code",
   "execution_count": null,
   "id": "b9832c6b",
   "metadata": {},
   "outputs": [],
   "source": [
    "#| hide\n",
    "vehicles_df = pd.read_csv(data_directory / 'raw/vehicles.csv')\n",
    "\n",
    "vehicles_df = vehicles_df \\\n",
    "    .rename(columns={'vehicleid': 'vehicle_id', 'vehicleregno': 'registration_number'})[['vehicle_id', 'registration_number']] \\\n",
    "    .sort_values(by = 'vehicle_id') \\\n",
    "    .reset_index(drop = True)\n",
    "\n",
    "vehicles_df.to_csv(data_directory / 'cleaned' / 'vehicles.csv', index=False)\n",
    "\n",
    "print(vehicles_df.shape)\n",
    "vehicles_df.head(3)"
   ]
  },
  {
   "cell_type": "code",
   "execution_count": null,
   "id": "dfe4b479",
   "metadata": {},
   "outputs": [],
   "source": []
  },
  {
   "cell_type": "code",
   "execution_count": null,
   "id": "eec465df",
   "metadata": {},
   "outputs": [],
   "source": []
  },
  {
   "cell_type": "markdown",
   "id": "f8bbb3db",
   "metadata": {},
   "source": [
    "# Trip details"
   ]
  },
  {
   "cell_type": "code",
   "execution_count": null,
   "id": "77a99733",
   "metadata": {},
   "outputs": [],
   "source": [
    "# | export\n",
    "def fetch_trip_details(vehicle_id: int):\n",
    "    time.sleep(0.1)\n",
    "    logging.info(f\"Fetching trip details for vehicle ID = '{vehicle_id}'\")\n",
    "    url = \"https://bmtcmobileapi.karnataka.gov.in/WebAPI/VehicleTripDetails_v2\"\n",
    "\n",
    "    headers = {\n",
    "        \"Content-Type\": \"application/json\",\n",
    "        \"User-Agent\": \"Mozilla/5.0 (Macintosh; Intel Mac OS X 10_15_7) AppleWebKit/537.36 (KHTML, like Gecko) Chrome/138.0.0.0 Safari/537.36\"\n",
    "    }\n",
    "\n",
    "    payload = json.dumps({\"vehicleId\": int(vehicle_id)})\n",
    "    try:\n",
    "        response = requests.post(url, headers=headers, data=payload)\n",
    "        response.raise_for_status()\n",
    "        return response.json()\n",
    "    except requests.exceptions.RequestException as e:\n",
    "        print(f\"Error: {e}\")\n",
    "        print(\"Response text:\", getattr(e.response, \"text\", None))\n",
    "        return None"
   ]
  },
  {
   "cell_type": "code",
   "execution_count": null,
   "id": "304d583e",
   "metadata": {},
   "outputs": [],
   "source": [
    "#| hide\n",
    "directory = data_directory / 'trip_details' / str(int(datetime.datetime.now().timestamp())) / 'raw'\n",
    "directory.mkdir(exist_ok=True, parents=True)"
   ]
  },
  {
   "cell_type": "code",
   "execution_count": null,
   "id": "d70d63c6",
   "metadata": {},
   "outputs": [],
   "source": [
    "#| hide\n",
    "for index, row in vehicles_df.iterrows():\n",
    "    trip_details = fetch_trip_details(vehicle_id = row['vehicle_id']) \n",
    "    with open(directory / f\"{row['vehicle_id']}.json\", \"w\") as f:\n",
    "        json.dump(trip_details, f, indent = 4)"
   ]
  },
  {
   "cell_type": "code",
   "execution_count": null,
   "id": "69daf301",
   "metadata": {},
   "outputs": [],
   "source": []
  },
  {
   "cell_type": "code",
   "execution_count": null,
   "id": "4517f397",
   "metadata": {},
   "outputs": [],
   "source": [
    "#| hide\n",
    "import nbdev; nbdev.nbdev_export()"
   ]
  },
  {
   "cell_type": "code",
   "execution_count": null,
   "id": "9a76ea82",
   "metadata": {},
   "outputs": [],
   "source": []
  }
 ],
 "metadata": {
  "kernelspec": {
   "display_name": "python3",
   "language": "python",
   "name": "python3"
  }
 },
 "nbformat": 4,
 "nbformat_minor": 5
}

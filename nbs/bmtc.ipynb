{
 "cells": [
  {
   "cell_type": "markdown",
   "id": "9799ec49",
   "metadata": {},
   "source": [
    "# BMTC\n",
    "\n",
    "> Bengaluru Metropolitan Transport Corporation (BMTC) is a state-owned public road transport corporation in the Indian city of Bengaluru."
   ]
  },
  {
   "cell_type": "code",
   "execution_count": null,
   "id": "f6d37e00",
   "metadata": {},
   "outputs": [],
   "source": [
    "#| default_exp bmtc"
   ]
  },
  {
   "cell_type": "code",
   "execution_count": null,
   "id": "d0b1b226",
   "metadata": {},
   "outputs": [],
   "source": [
    "#| hide\n",
    "from nbdev.showdoc import *"
   ]
  },
  {
   "cell_type": "code",
   "execution_count": null,
   "id": "3fed9355",
   "metadata": {},
   "outputs": [],
   "source": [
    "#| export\n",
    "import string\n",
    "import json\n",
    "import time\n",
    "from pathlib import Path\n",
    "\n",
    "import logging\n",
    "logging.basicConfig(\n",
    "    level=logging.INFO,\n",
    "    format=\"%(asctime)s - %(levelname)s - %(message)s\"\n",
    ")\n",
    "\n",
    "import requests\n",
    "import pandas as pd"
   ]
  },
  {
   "cell_type": "code",
   "execution_count": null,
   "id": "0d35502d",
   "metadata": {},
   "outputs": [],
   "source": [
    "data_directory = Path('../data/bmtc/')\n",
    "data_directory.mkdir(exist_ok=True)"
   ]
  },
  {
   "cell_type": "code",
   "execution_count": null,
   "id": "f5f22e00",
   "metadata": {},
   "outputs": [],
   "source": []
  },
  {
   "cell_type": "code",
   "execution_count": null,
   "id": "aad284bf",
   "metadata": {},
   "outputs": [],
   "source": [
    "#| export\n",
    "def fetch_routes(route_text: str = \"\"):\n",
    "    logging.info(f\"Fetching routes for route_text = '{route_text}'\")\n",
    "    url = \"https://bmtcmobileapi.karnataka.gov.in/WebAPI/SearchRoute_v2\"\n",
    "\n",
    "    headers = {\n",
    "        \"Content-Type\": \"application/json\",\n",
    "        \"User-Agent\": \"Mozilla/5.0 (Macintosh; Intel Mac OS X 10_15_7) AppleWebKit/537.36 (KHTML, like Gecko) Chrome/138.0.0.0 Safari/537.36\",\n",
    "        \"lan\": \"en\"\n",
    "    }\n",
    "\n",
    "    if route_text != '':\n",
    "        payload = {\"routetext\": route_text}\n",
    "        try:\n",
    "            response = requests.post(url, headers=headers, json=payload)\n",
    "            response.raise_for_status()\n",
    "            return response.json()['data']\n",
    "        except requests.exceptions.RequestException as e:\n",
    "            print(f\"Error: {e}\")\n",
    "            return None\n",
    "    else:\n",
    "        routes = []\n",
    "        characters = string.digits + string.ascii_lowercase\n",
    "        for route_text in characters:\n",
    "            time.sleep(0.1)\n",
    "            routes += fetch_routes(route_text)\n",
    "        return routes"
   ]
  },
  {
   "cell_type": "code",
   "execution_count": null,
   "id": "79af2bc7",
   "metadata": {},
   "outputs": [],
   "source": [
    "#| eval: false\n",
    "#| output: false\n",
    "routes = fetch_routes()\n",
    "\n",
    "routes_df = pd.DataFrame(routes)\n",
    "routes_df = routes_df.drop_duplicates(subset=[\"routeno\"], keep=\"first\")\n",
    "routes_df.to_csv(data_directory / 'routes.csv')\n",
    "\n",
    "print(routes_df.shape)\n",
    "routes_df.head(3)"
   ]
  },
  {
   "cell_type": "code",
   "execution_count": null,
   "id": "0dcbb105",
   "metadata": {},
   "outputs": [],
   "source": []
  },
  {
   "cell_type": "code",
   "execution_count": null,
   "id": "4517f397",
   "metadata": {},
   "outputs": [],
   "source": [
    "#| hide\n",
    "import nbdev; nbdev.nbdev_export()"
   ]
  },
  {
   "cell_type": "code",
   "execution_count": null,
   "id": "9a76ea82",
   "metadata": {},
   "outputs": [],
   "source": []
  }
 ],
 "metadata": {
  "kernelspec": {
   "display_name": "python3",
   "language": "python",
   "name": "python3"
  }
 },
 "nbformat": 4,
 "nbformat_minor": 5
}

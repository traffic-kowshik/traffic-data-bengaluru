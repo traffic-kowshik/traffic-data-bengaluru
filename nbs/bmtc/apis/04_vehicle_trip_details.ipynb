{
 "cells": [
  {
   "cell_type": "markdown",
   "id": "f571b214",
   "metadata": {},
   "source": [
    "# 4. Vehicle trip details\n",
    "\n",
    "> Takes a `vehicle_id` as input and returns route details of the current trip along with the live location of the vehicle."
   ]
  },
  {
   "cell_type": "markdown",
   "id": "ed427465",
   "metadata": {},
   "source": [
    "## Sample request\n",
    "\n",
    "```bash\n",
    "curl 'https://bmtcmobileapi.karnataka.gov.in/WebAPI/VehicleTripDetails_v2' \\\n",
    "  -H 'Content-Type: application/json' \\\n",
    "  -H 'User-Agent: Mozilla/5.0 (Macintosh; Intel Mac OS X 10_15_7) AppleWebKit/537.36 (KHTML, like Gecko) Chrome/138.0.0.0 Safari/537.36' \\\n",
    "  --data-raw '{\"vehicleId\":21670}'\n",
    "```"
   ]
  },
  {
   "cell_type": "markdown",
   "id": "11fca0c1",
   "metadata": {},
   "source": [
    "## Sample response\n",
    "\n",
    "```json\n",
    "{\n",
    "    \"RouteDetails\": [\n",
    "        {\n",
    "            \"rowid\": 1,\n",
    "            \"tripid\": 68043555,\n",
    "            \"routeno\": \"210-N\",\n",
    "            \"routename\": \"KBS-UTH\",\n",
    "            \"busno\": \"KA57F0614\",\n",
    "            \"tripstatus\": \"Running\",\n",
    "            \"tripstatusid\": \"1\",\n",
    "            \"sourcestation\": \"Kempegowda Bus Station\",\n",
    "            \"destinationstation\": \"Uttarahalli Bus Stand\",\n",
    "            \"servicetype\": \"Non AC/Ordinary\",\n",
    "            \"webservicetype\": \"Non-AC\",\n",
    "            \"servicetypeid\": 72,\n",
    "            \"lastupdatedat\": \"17-08-2025 12:33:18\",\n",
    "            \"stationname\": \"Uttarahalli Bus Stand\",\n",
    "            \"stationid\": 22569,\n",
    "            \"actual_arrivaltime\": null,\n",
    "            \"etastatus\": \"12:41\",\n",
    "            \"etastatusmapview\": \"12:41\",\n",
    "            \"latitude\": 12.90535,\n",
    "            \"longitude\": 77.54327,\n",
    "            \"currentstop\": \"\",\n",
    "            \"laststop\": \"Gowdanapalya (Towards Uttarahalli)\",\n",
    "            \"weblaststop\": \"Gowdanapalya\",\n",
    "            \"nextstop\": \"Chikkallasandra Aralimara (Towards Uttarahalli)\",\n",
    "            \"currlatitude\": 12.911503,\n",
    "            \"currlongitude\": 77.555923,\n",
    "            \"sch_arrivaltime\": \"12:48\",\n",
    "            \"sch_departuretime\": \"12:48\",\n",
    "            \"eta\": \"12:41\",\n",
    "            \"actual_arrivaltime1\": null,\n",
    "            \"actual_departudetime\": null,\n",
    "            \"tripstarttime\": \"11:50\",\n",
    "            \"tripendtime\": \"12:55\",\n",
    "            \"routeid\": 3796,\n",
    "            \"vehicleid\": 21670,\n",
    "            \"responsecode\": 200,\n",
    "            \"lastreceiveddatetimeflag\": 1,\n",
    "            \"srno\": 1584405201,\n",
    "            \"tripposition\": 1,\n",
    "            \"stopstatus\": 1,\n",
    "            \"stopstatus_distance\": 1.53,\n",
    "            \"lastetaupdated\": \"2025-08-17T12:41:00\",\n",
    "            \"minstopstatus_distance\": 0.38\n",
    "        }\n",
    "    ],\n",
    "    \"LiveLocation\": [\n",
    "        {\n",
    "            \"latitude\": 12.911503,\n",
    "            \"longitude\": 77.555923,\n",
    "            \"location\": \"Gowdanapalya (Towards Kadirenahalli)\",\n",
    "            \"lastrefreshon\": \"17-08-2025 12:33:18\",\n",
    "            \"nextstop\": \"Chikkallasandra Aralimara (Towards Uttarahalli)\",\n",
    "            \"previousstop\": \"Prarthana School (Towards Uttarahalli)\",\n",
    "            \"vehicleid\": 21670,\n",
    "            \"vehiclenumber\": \"KA57F0614\",\n",
    "            \"routeno\": \"210-N\",\n",
    "            \"servicetypeid\": 72,\n",
    "            \"servicetype\": \"Non AC/Ordinary\",\n",
    "            \"heading\": 241.00,\n",
    "            \"responsecode\": 200,\n",
    "            \"trip_status\": 1,\n",
    "            \"lastreceiveddatetimeflag\": 1\n",
    "        }\n",
    "    ],\n",
    "    \"Message\": \"Success\",\n",
    "    \"Issuccess\": true,\n",
    "    \"exception\": null,\n",
    "    \"RowCount\": 29,\n",
    "    \"responsecode\": 200\n",
    "}\n",
    "```\n"
   ]
  },
  {
   "cell_type": "code",
   "execution_count": null,
   "id": "a02ca4b6",
   "metadata": {},
   "outputs": [],
   "source": []
  },
  {
   "cell_type": "markdown",
   "id": "a0e0886b",
   "metadata": {},
   "source": [
    "# Data Issues"
   ]
  },
  {
   "cell_type": "code",
   "execution_count": null,
   "id": "5a9c037e",
   "metadata": {},
   "outputs": [],
   "source": []
  },
  {
   "cell_type": "markdown",
   "id": "e482895e",
   "metadata": {},
   "source": [
    "## Issue 1. Vehicle is assigned to more than one route\n",
    "\n",
    "Vehicles on some occassions are assigned to more than one route. Ex: Vehicle `KA57F5808` is assigned to two routes, `routeno = 210-NA` and `routeno = D33-PPLO`.\n",
    "\n",
    "```json\n",
    "\"LiveLocation\": [\n",
    "    {\n",
    "        \"latitude\": 12.909809,\n",
    "        \"longitude\": 77.536422,\n",
    "        \"location\": \"Depot-33 Poornapragna layout (Towards Depot-33 (Poornapragna layout))\",\n",
    "        \"lastrefreshon\": \"17-09-2025 23:19:34\",\n",
    "        \"nextstop\": null,\n",
    "        \"previousstop\": \"Arehalli (Towards Kengeri)\",\n",
    "        \"vehicleid\": 27211,\n",
    "        \"vehiclenumber\": \"KA57F5808\",\n",
    "        \"routeno\": \"210-NA\",\n",
    "        \"servicetypeid\": 72,\n",
    "        \"servicetype\": \"Non AC/Ordinary\",\n",
    "        \"heading\": 210.18,\n",
    "        \"responsecode\": 200,\n",
    "        \"trip_status\": 1,\n",
    "        \"lastreceiveddatetimeflag\": 1\n",
    "    },\n",
    "    {\n",
    "        \"latitude\": 12.909809,\n",
    "        \"longitude\": 77.536422,\n",
    "        \"location\": \"Depot-33 Poornapragna layout (Towards Depot-33 (Poornapragna layout))\",\n",
    "        \"lastrefreshon\": \"17-09-2025 23:19:34\",\n",
    "        \"nextstop\": null,\n",
    "        \"previousstop\": \"Arehalli (Towards Kengeri)\",\n",
    "        \"vehicleid\": 27211,\n",
    "        \"vehiclenumber\": \"KA57F5808\",\n",
    "        \"routeno\": \"D33-PPLO\",\n",
    "        \"servicetypeid\": 72,\n",
    "        \"servicetype\": \"Non AC/Ordinary\",\n",
    "        \"heading\": 210.18,\n",
    "        \"responsecode\": 200,\n",
    "        \"trip_status\": 1,\n",
    "        \"lastreceiveddatetimeflag\": 1\n",
    "    }\n",
    "]\n",
    "```"
   ]
  },
  {
   "cell_type": "code",
   "execution_count": null,
   "id": "6603afb6",
   "metadata": {},
   "outputs": [],
   "source": []
  },
  {
   "cell_type": "markdown",
   "id": "36e047b9",
   "metadata": {},
   "source": [
    "## Issue 2. Live location is missing\n",
    "\n",
    "Live location was empty for about `2.5%` of vehicles (`185` out of `7,247` vehicles) when run on `2025-09-17`. Ex: Vehicle ID  `28622` with registration number `KA01AR4181`.\n",
    "\n",
    "```json\n",
    "{\n",
    "    \"RouteDetails\": [],\n",
    "    \"LiveLocation\": [],\n",
    "    \"Message\": \"No Records Found\",\n",
    "    \"Issuccess\": true,\n",
    "    \"exception\": null,\n",
    "    \"RowCount\": 0,\n",
    "    \"responsecode\": 200\n",
    "}\n",
    "```"
   ]
  },
  {
   "cell_type": "code",
   "execution_count": null,
   "id": "6513a9be",
   "metadata": {},
   "outputs": [],
   "source": []
  },
  {
   "cell_type": "code",
   "execution_count": null,
   "id": "d3e82629",
   "metadata": {},
   "outputs": [],
   "source": [
    "%load_ext autoreload\n",
    "%autoreload 2"
   ]
  },
  {
   "cell_type": "code",
   "execution_count": null,
   "id": "a93fa337",
   "metadata": {},
   "outputs": [],
   "source": [
    "#| default_exp bmtc.apis.vehicle_trip_details"
   ]
  },
  {
   "cell_type": "code",
   "execution_count": null,
   "id": "83ba1585",
   "metadata": {},
   "outputs": [],
   "source": [
    "#| hide\n",
    "from nbdev.showdoc import *"
   ]
  },
  {
   "cell_type": "code",
   "execution_count": null,
   "id": "338bb4c4",
   "metadata": {},
   "outputs": [],
   "source": [
    "#| export\n",
    "import string\n",
    "import json\n",
    "import time\n",
    "import datetime\n",
    "from tqdm import tqdm\n",
    "import geojson\n",
    "import random\n",
    "import tarfile\n",
    "\n",
    "import requests\n",
    "import pandas as pd\n",
    "pd.set_option('display.max_columns', None)\n",
    "\n",
    "from fastcore.all import Path\n",
    "from nbdev.config import get_config\n",
    "\n",
    "from traffic_data_bengaluru.utils import *\n",
    "from traffic_data_bengaluru.bmtc.apis.vehicles import get_vehicles"
   ]
  },
  {
   "cell_type": "code",
   "execution_count": null,
   "id": "1c019030",
   "metadata": {},
   "outputs": [],
   "source": [
    "#| export\n",
    "import logging\n",
    "logging.basicConfig(\n",
    "    level=logging.INFO,\n",
    "    format=\"%(asctime)s [%(levelname)s] %(message)s\"\n",
    ")\n",
    "logger = logging.getLogger(__name__)"
   ]
  },
  {
   "cell_type": "code",
   "execution_count": null,
   "id": "40039bb0",
   "metadata": {},
   "outputs": [],
   "source": []
  },
  {
   "cell_type": "code",
   "execution_count": null,
   "id": "0e3e9cca",
   "metadata": {},
   "outputs": [],
   "source": [
    "#| hide\n",
    "#| eval: false\n",
    "\n",
    "data_directory = get_data_directory() / \"bmtc\""
   ]
  },
  {
   "cell_type": "code",
   "execution_count": null,
   "id": "f4197152",
   "metadata": {},
   "outputs": [],
   "source": []
  },
  {
   "cell_type": "markdown",
   "id": "4a140b9a",
   "metadata": {},
   "source": [
    "# Fetch"
   ]
  },
  {
   "cell_type": "code",
   "execution_count": null,
   "id": "11a9db25",
   "metadata": {},
   "outputs": [],
   "source": [
    "# | export\n",
    "def fetch_vehicle_trip_details(vehicle_id: int, sleep_duration: float = 0.1):\n",
    "    \"\"\"Fetch trip details for a given vehicle ID from the BMTC API.\"\"\"\n",
    "    time.sleep(sleep_duration)\n",
    "    url = \"https://bmtcmobileapi.karnataka.gov.in/WebAPI/VehicleTripDetails_v2\"\n",
    "\n",
    "    headers = {\n",
    "        \"Content-Type\": \"application/json\",\n",
    "        \"User-Agent\": \"Mozilla/5.0 (Macintosh; Intel Mac OS X 10_15_7) AppleWebKit/537.36 (KHTML, like Gecko) Chrome/138.0.0.0 Safari/537.36\"\n",
    "    }\n",
    "\n",
    "    payload = json.dumps({\"vehicleId\": int(vehicle_id)})\n",
    "    try:\n",
    "        response = requests.post(url, headers=headers, data=payload)\n",
    "        response.raise_for_status()\n",
    "        return response.json()\n",
    "    except requests.exceptions.RequestException as e:\n",
    "        print(f\"Error: {e}\")\n",
    "        print(\"Response text:\", getattr(e.response, \"text\", None))\n",
    "        return None"
   ]
  },
  {
   "cell_type": "code",
   "execution_count": null,
   "id": "784b16db",
   "metadata": {},
   "outputs": [],
   "source": [
    "#| hide\n",
    "#| eval: false\n",
    "\n",
    "df_vehicles = get_vehicles(data_directory)\n",
    "trip_details = fetch_vehicle_trip_details(df_vehicles.sample().iloc[0]['vehicle_id'])\n",
    "trip_details"
   ]
  },
  {
   "cell_type": "code",
   "execution_count": null,
   "id": "243f2c74",
   "metadata": {},
   "outputs": [],
   "source": []
  },
  {
   "cell_type": "markdown",
   "id": "21b15bf1",
   "metadata": {},
   "source": [
    "# Extract"
   ]
  },
  {
   "cell_type": "code",
   "execution_count": null,
   "id": "3c72f692",
   "metadata": {},
   "outputs": [],
   "source": []
  },
  {
   "cell_type": "markdown",
   "id": "f17239d6",
   "metadata": {},
   "source": [
    "## Dataset 1. Live Location"
   ]
  },
  {
   "cell_type": "code",
   "execution_count": null,
   "id": "b87cf2ff",
   "metadata": {},
   "outputs": [],
   "source": [
    "# | export\n",
    "def extract_live_location(trip_details):\n",
    "    \"\"\"Extract live location from trip details.\"\"\"\n",
    "    try:\n",
    "        locations = trip_details['LiveLocation']\n",
    "    except TypeError as e:\n",
    "        # When trip_details is None.\n",
    "        locations = []\n",
    "\n",
    "    # When there are more than one live locations, it's mostly because of the vehicle assigned to more than one route at a time.\n",
    "    # We could use the route details and live location to determine which is the right route that the vehicle is running on.\n",
    "    return locations"
   ]
  },
  {
   "cell_type": "code",
   "execution_count": null,
   "id": "7307c0af",
   "metadata": {},
   "outputs": [],
   "source": [
    "#| hide\n",
    "#| eval: false\n",
    "\n",
    "live_location = extract_live_location(trip_details)"
   ]
  },
  {
   "cell_type": "code",
   "execution_count": null,
   "id": "1c0c1a45",
   "metadata": {},
   "outputs": [],
   "source": []
  },
  {
   "cell_type": "code",
   "execution_count": null,
   "id": "548bacf2",
   "metadata": {},
   "outputs": [],
   "source": [
    "# | export\n",
    "def get_live_locations(directory: Path):\n",
    "    \"\"\"Extract live location for all trip details in a directory.\"\"\"\n",
    "    latest = get_latest_file(data_directory / 'raw' / 'vehicle_trip_details')\n",
    "    files = extract_files(latest)\n",
    "    return files\n",
    "\n",
    "    live_locations = []\n",
    "    for filepath in tqdm(files, total = files.__len__(), desc = 'Extracting live locations'):\n",
    "        live_locations += extract_live_location(read_file(filepath))\n",
    "    live_locations = pd.DataFrame(live_locations)\n",
    "    return live_locations"
   ]
  },
  {
   "cell_type": "code",
   "execution_count": null,
   "id": "c4080ba2",
   "metadata": {},
   "outputs": [],
   "source": [
    "#| hide\n",
    "#| eval: false\n",
    "\n",
    "directory = get_latest_file(data_directory / 'raw' / 'vehicle_trip_details')\n",
    "df_live_locations = get_live_locations(directory)\n",
    "\n",
    "print(df_live_locations.shape)\n",
    "df_live_locations.head(3)"
   ]
  },
  {
   "cell_type": "code",
   "execution_count": null,
   "id": "a77a06a3",
   "metadata": {},
   "outputs": [],
   "source": []
  },
  {
   "cell_type": "code",
   "execution_count": null,
   "id": "3a8390f3",
   "metadata": {},
   "outputs": [],
   "source": []
  },
  {
   "cell_type": "markdown",
   "id": "adbc2bc5",
   "metadata": {},
   "source": [
    "## Dataset 2. Route Details"
   ]
  },
  {
   "cell_type": "code",
   "execution_count": null,
   "id": "40dc06d9",
   "metadata": {},
   "outputs": [],
   "source": [
    "# | export\n",
    "def extract_route_detail(trip_detail):\n",
    "    try:\n",
    "        details = trip_detail['RouteDetails']\n",
    "    except TypeError as e:\n",
    "        details = []\n",
    "    return details"
   ]
  },
  {
   "cell_type": "code",
   "execution_count": null,
   "id": "47fd6123",
   "metadata": {},
   "outputs": [],
   "source": [
    "#| hide\n",
    "#| eval: false\n",
    "def collect_route_details(directory: Path):\n",
    "    route_details = []\n",
    "    for filepath in tqdm(directory.ls(), total = directory.ls().__len__(), desc = 'Extracting route details'):\n",
    "        with open(filepath) as f:\n",
    "            trip_detail = json.load(f)\n",
    "            \n",
    "            route_detail = extract_route_detail(trip_detail)\n",
    "            route_details += route_detail\n",
    "    route_details = pd.DataFrame(route_details)\n",
    "    return route_details"
   ]
  },
  {
   "cell_type": "code",
   "execution_count": null,
   "id": "4be1bd4d",
   "metadata": {},
   "outputs": [],
   "source": [
    "#| hide\n",
    "#| eval: false\n",
    "\n",
    "directory = get_latest_directory(data_directory / 'raw' / 'vehicle_trip_details')\n",
    "df_route_details = collect_route_details(directory)\n",
    "\n",
    "filepath = data_directory / 'latest' / 'route_details.csv'\n",
    "filepath.parent.mkdir(parents=True, exist_ok=True)\n",
    "df_route_details.to_csv(filepath, index=False)\n",
    "\n",
    "print(df_route_details.shape)\n",
    "df_route_details.head(3)"
   ]
  },
  {
   "cell_type": "code",
   "execution_count": null,
   "id": "7c3e40b5",
   "metadata": {},
   "outputs": [],
   "source": []
  },
  {
   "cell_type": "code",
   "execution_count": null,
   "id": "21204e6e",
   "metadata": {},
   "outputs": [],
   "source": [
    "#| hide\n",
    "#| eval: false\n",
    "\n",
    "sample_vehicleid = df_live_locations[df_live_locations['vehicleid'].notna()].sample(1).iloc[0]['vehicleid']\n",
    "columns = ['busno', 'stationname', 'sch_arrivaltime', 'actual_arrivaltime']\n",
    "df = df_route_details[df_route_details['vehicleid'] == sample_vehicleid].reset_index(drop=True)[columns]\n",
    "\n",
    "# Keep the raw values as is, and calculate diffs on the fly when needed\n",
    "def calc_time_diff(series):\n",
    "    times = pd.to_datetime(series, format=\"%H:%M\", errors=\"coerce\")\n",
    "    return times.diff().dt.total_seconds()\n",
    "\n",
    "df[\"sch_diff\"] = calc_time_diff(df[\"sch_arrivaltime\"])\n",
    "df[\"actual_diff\"] = calc_time_diff(df[\"actual_arrivaltime\"])\n",
    "\n",
    "df"
   ]
  },
  {
   "cell_type": "code",
   "execution_count": null,
   "id": "09e8c5a2",
   "metadata": {},
   "outputs": [],
   "source": []
  },
  {
   "cell_type": "markdown",
   "id": "69505cd4",
   "metadata": {},
   "source": [
    "# Task"
   ]
  },
  {
   "cell_type": "code",
   "execution_count": null,
   "id": "a44d457b",
   "metadata": {},
   "outputs": [],
   "source": [
    "# | export\n",
    "def task_fetch_vehicle_trip_details(data_directory: Path):\n",
    "    folder_name = f'{str(int(datetime.datetime.now().timestamp()))}'\n",
    "    directory = data_directory / 'raw' / 'vehicle_trip_details' / folder_name\n",
    "    directory.mkdir(exist_ok=True, parents=True)\n",
    "\n",
    "    logger.info(\"Fetching vehicle trip details ...\")\n",
    "    df_vehicles = get_vehicles(data_directory).head(10)\n",
    "    for index, row in tqdm(df_vehicles.iterrows(), total = df_vehicles.shape[0], desc = 'Fetching vehicle trip details'):\n",
    "        trip_details = fetch_vehicle_trip_details(vehicle_id = row['vehicle_id']) \n",
    "        with open(directory / f\"{row['vehicle_id']}.json\", \"w\") as f:\n",
    "            json.dump(trip_details, f, indent = 4)\n",
    "\n",
    "    tar_path = directory.with_suffix('.tar.gz')\n",
    "    with tarfile.open(tar_path, \"w:gz\") as tar:\n",
    "        tar.add(directory, arcname=directory.name)\n",
    "\n",
    "    logger.info(f\"Compressed {directory} into {tar_path}\")"
   ]
  },
  {
   "cell_type": "code",
   "execution_count": null,
   "id": "ebe68663",
   "metadata": {},
   "outputs": [],
   "source": [
    "#| hide\n",
    "#| eval: false\n",
    "\n",
    "task_fetch_vehicle_trip_details(data_directory=data_directory)"
   ]
  },
  {
   "cell_type": "code",
   "execution_count": null,
   "id": "a220c756",
   "metadata": {},
   "outputs": [],
   "source": []
  },
  {
   "cell_type": "code",
   "execution_count": null,
   "id": "2b1cbe56",
   "metadata": {},
   "outputs": [],
   "source": [
    "#| hide\n",
    "import nbdev; nbdev.nbdev_export()"
   ]
  },
  {
   "cell_type": "code",
   "execution_count": null,
   "id": "c542b4af",
   "metadata": {},
   "outputs": [],
   "source": []
  }
 ],
 "metadata": {
  "kernelspec": {
   "display_name": "python3",
   "language": "python",
   "name": "python3"
  }
 },
 "nbformat": 4,
 "nbformat_minor": 5
}

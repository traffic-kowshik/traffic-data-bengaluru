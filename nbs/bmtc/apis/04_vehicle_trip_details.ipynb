{
 "cells": [
  {
   "cell_type": "markdown",
   "id": "f571b214",
   "metadata": {},
   "source": [
    "# 4. Vehicle trip details\n",
    "\n",
    "> Takes a `vehicle_id` as input and returns route details of the current trip along with the live location of the vehicle."
   ]
  },
  {
   "cell_type": "markdown",
   "id": "ed427465",
   "metadata": {},
   "source": [
    "## Sample request\n",
    "\n",
    "```bash\n",
    "curl 'https://bmtcmobileapi.karnataka.gov.in/WebAPI/VehicleTripDetails_v2' \\\n",
    "  -H 'Content-Type: application/json' \\\n",
    "  -H 'User-Agent: Mozilla/5.0 (Macintosh; Intel Mac OS X 10_15_7) AppleWebKit/537.36 (KHTML, like Gecko) Chrome/138.0.0.0 Safari/537.36' \\\n",
    "  --data-raw '{\"vehicleId\":21670}'\n",
    "```"
   ]
  },
  {
   "cell_type": "markdown",
   "id": "11fca0c1",
   "metadata": {},
   "source": [
    "## Sample response\n",
    "\n",
    "```json\n",
    "{\n",
    "    \"RouteDetails\": [\n",
    "        {\n",
    "            \"rowid\": 1,\n",
    "            \"tripid\": 68043555,\n",
    "            \"routeno\": \"210-N\",\n",
    "            \"routename\": \"KBS-UTH\",\n",
    "            \"busno\": \"KA57F0614\",\n",
    "            \"tripstatus\": \"Running\",\n",
    "            \"tripstatusid\": \"1\",\n",
    "            \"sourcestation\": \"Kempegowda Bus Station\",\n",
    "            \"destinationstation\": \"Uttarahalli Bus Stand\",\n",
    "            \"servicetype\": \"Non AC/Ordinary\",\n",
    "            \"webservicetype\": \"Non-AC\",\n",
    "            \"servicetypeid\": 72,\n",
    "            \"lastupdatedat\": \"17-08-2025 12:33:18\",\n",
    "            \"stationname\": \"Uttarahalli Bus Stand\",\n",
    "            \"stationid\": 22569,\n",
    "            \"actual_arrivaltime\": null,\n",
    "            \"etastatus\": \"12:41\",\n",
    "            \"etastatusmapview\": \"12:41\",\n",
    "            \"latitude\": 12.90535,\n",
    "            \"longitude\": 77.54327,\n",
    "            \"currentstop\": \"\",\n",
    "            \"laststop\": \"Gowdanapalya (Towards Uttarahalli)\",\n",
    "            \"weblaststop\": \"Gowdanapalya\",\n",
    "            \"nextstop\": \"Chikkallasandra Aralimara (Towards Uttarahalli)\",\n",
    "            \"currlatitude\": 12.911503,\n",
    "            \"currlongitude\": 77.555923,\n",
    "            \"sch_arrivaltime\": \"12:48\",\n",
    "            \"sch_departuretime\": \"12:48\",\n",
    "            \"eta\": \"12:41\",\n",
    "            \"actual_arrivaltime1\": null,\n",
    "            \"actual_departudetime\": null,\n",
    "            \"tripstarttime\": \"11:50\",\n",
    "            \"tripendtime\": \"12:55\",\n",
    "            \"routeid\": 3796,\n",
    "            \"vehicleid\": 21670,\n",
    "            \"responsecode\": 200,\n",
    "            \"lastreceiveddatetimeflag\": 1,\n",
    "            \"srno\": 1584405201,\n",
    "            \"tripposition\": 1,\n",
    "            \"stopstatus\": 1,\n",
    "            \"stopstatus_distance\": 1.53,\n",
    "            \"lastetaupdated\": \"2025-08-17T12:41:00\",\n",
    "            \"minstopstatus_distance\": 0.38\n",
    "        }\n",
    "    ],\n",
    "    \"LiveLocation\": [\n",
    "        {\n",
    "            \"latitude\": 12.911503,\n",
    "            \"longitude\": 77.555923,\n",
    "            \"location\": \"Gowdanapalya (Towards Kadirenahalli)\",\n",
    "            \"lastrefreshon\": \"17-08-2025 12:33:18\",\n",
    "            \"nextstop\": \"Chikkallasandra Aralimara (Towards Uttarahalli)\",\n",
    "            \"previousstop\": \"Prarthana School (Towards Uttarahalli)\",\n",
    "            \"vehicleid\": 21670,\n",
    "            \"vehiclenumber\": \"KA57F0614\",\n",
    "            \"routeno\": \"210-N\",\n",
    "            \"servicetypeid\": 72,\n",
    "            \"servicetype\": \"Non AC/Ordinary\",\n",
    "            \"heading\": 241.00,\n",
    "            \"responsecode\": 200,\n",
    "            \"trip_status\": 1,\n",
    "            \"lastreceiveddatetimeflag\": 1\n",
    "        }\n",
    "    ],\n",
    "    \"Message\": \"Success\",\n",
    "    \"Issuccess\": true,\n",
    "    \"exception\": null,\n",
    "    \"RowCount\": 29,\n",
    "    \"responsecode\": 200\n",
    "}\n",
    "```"
   ]
  },
  {
   "cell_type": "code",
   "execution_count": null,
   "id": "a02ca4b6",
   "metadata": {},
   "outputs": [],
   "source": []
  },
  {
   "cell_type": "markdown",
   "id": "a0e0886b",
   "metadata": {},
   "source": [
    "# Data Issues"
   ]
  },
  {
   "cell_type": "code",
   "execution_count": null,
   "id": "5a9c037e",
   "metadata": {},
   "outputs": [],
   "source": []
  },
  {
   "cell_type": "markdown",
   "id": "e482895e",
   "metadata": {},
   "source": [
    "## Issue 1. Vehicle is assigned to more than one route\n",
    "\n",
    "Vehicles on some occassions are assigned to more than one route. Ex: Vehicle `KA57F5808` is assigned to two routes, `routeno = 210-NA` and `routeno = D33-PPLO`.\n",
    "\n",
    "```json\n",
    "\"LiveLocation\": [\n",
    "    {\n",
    "        \"latitude\": 12.909809,\n",
    "        \"longitude\": 77.536422,\n",
    "        \"location\": \"Depot-33 Poornapragna layout (Towards Depot-33 (Poornapragna layout))\",\n",
    "        \"lastrefreshon\": \"17-09-2025 23:19:34\",\n",
    "        \"nextstop\": null,\n",
    "        \"previousstop\": \"Arehalli (Towards Kengeri)\",\n",
    "        \"vehicleid\": 27211,\n",
    "        \"vehiclenumber\": \"KA57F5808\",\n",
    "        \"routeno\": \"210-NA\",\n",
    "        \"servicetypeid\": 72,\n",
    "        \"servicetype\": \"Non AC/Ordinary\",\n",
    "        \"heading\": 210.18,\n",
    "        \"responsecode\": 200,\n",
    "        \"trip_status\": 1,\n",
    "        \"lastreceiveddatetimeflag\": 1\n",
    "    },\n",
    "    {\n",
    "        \"latitude\": 12.909809,\n",
    "        \"longitude\": 77.536422,\n",
    "        \"location\": \"Depot-33 Poornapragna layout (Towards Depot-33 (Poornapragna layout))\",\n",
    "        \"lastrefreshon\": \"17-09-2025 23:19:34\",\n",
    "        \"nextstop\": null,\n",
    "        \"previousstop\": \"Arehalli (Towards Kengeri)\",\n",
    "        \"vehicleid\": 27211,\n",
    "        \"vehiclenumber\": \"KA57F5808\",\n",
    "        \"routeno\": \"D33-PPLO\",\n",
    "        \"servicetypeid\": 72,\n",
    "        \"servicetype\": \"Non AC/Ordinary\",\n",
    "        \"heading\": 210.18,\n",
    "        \"responsecode\": 200,\n",
    "        \"trip_status\": 1,\n",
    "        \"lastreceiveddatetimeflag\": 1\n",
    "    }\n",
    "]\n",
    "```"
   ]
  },
  {
   "cell_type": "code",
   "execution_count": null,
   "id": "6603afb6",
   "metadata": {},
   "outputs": [],
   "source": []
  },
  {
   "cell_type": "markdown",
   "id": "36e047b9",
   "metadata": {},
   "source": [
    "## Issue 2. Live location is missing\n",
    "\n",
    "Live location was empty for about `2.5%` of vehicles (`185` out of `7,247` vehicles) when run on `2025-09-17`. Ex: Vehicle ID  `28622` with registration number `KA01AR4181`.\n",
    "\n",
    "```json\n",
    "{\n",
    "    \"RouteDetails\": [],\n",
    "    \"LiveLocation\": [],\n",
    "    \"Message\": \"No Records Found\",\n",
    "    \"Issuccess\": true,\n",
    "    \"exception\": null,\n",
    "    \"RowCount\": 0,\n",
    "    \"responsecode\": 200\n",
    "}\n",
    "```"
   ]
  },
  {
   "cell_type": "code",
   "execution_count": null,
   "id": "6513a9be",
   "metadata": {},
   "outputs": [],
   "source": []
  },
  {
   "cell_type": "code",
   "execution_count": null,
   "id": "d3e82629",
   "metadata": {},
   "outputs": [],
   "source": [
    "%load_ext autoreload\n",
    "%autoreload 2"
   ]
  },
  {
   "cell_type": "code",
   "execution_count": null,
   "id": "a93fa337",
   "metadata": {},
   "outputs": [],
   "source": [
    "#| default_exp bmtc.apis.vehicle_trip_details"
   ]
  },
  {
   "cell_type": "code",
   "execution_count": null,
   "id": "83ba1585",
   "metadata": {},
   "outputs": [],
   "source": [
    "#| hide\n",
    "from nbdev.showdoc import *"
   ]
  },
  {
   "cell_type": "code",
   "execution_count": null,
   "id": "338bb4c4",
   "metadata": {},
   "outputs": [],
   "source": [
    "#| export\n",
    "import string\n",
    "import json\n",
    "import time\n",
    "import datetime\n",
    "from tqdm import tqdm\n",
    "import geojson\n",
    "\n",
    "import logging\n",
    "logging.basicConfig(\n",
    "    level=logging.INFO,\n",
    "    format=\"%(asctime)s - %(levelname)s - %(message)s\"\n",
    ")\n",
    "\n",
    "import requests\n",
    "import pandas as pd\n",
    "from fastcore.all import Path\n",
    "from traffic_data_bengaluru.utils import *"
   ]
  },
  {
   "cell_type": "code",
   "execution_count": null,
   "id": "40039bb0",
   "metadata": {},
   "outputs": [],
   "source": []
  },
  {
   "cell_type": "code",
   "execution_count": null,
   "id": "0e3e9cca",
   "metadata": {},
   "outputs": [],
   "source": [
    "#| hide\n",
    "#| eval: false\n",
    "\n",
    "data_directory = Path('../data/bmtc/')\n",
    "data_directory.mkdir(exist_ok=True, parents=True)"
   ]
  },
  {
   "cell_type": "code",
   "execution_count": null,
   "id": "f4197152",
   "metadata": {},
   "outputs": [],
   "source": []
  },
  {
   "cell_type": "markdown",
   "id": "4a140b9a",
   "metadata": {},
   "source": [
    "# Functions"
   ]
  },
  {
   "cell_type": "code",
   "execution_count": null,
   "id": "11a9db25",
   "metadata": {},
   "outputs": [],
   "source": [
    "# | export\n",
    "def fetch_vehicle_trip_details(vehicle_id: int, sleep_duration: float = 0.1):\n",
    "    \"\"\"Fetch trip details for a given vehicle ID from the BMTC API.\"\"\"\n",
    "    time.sleep(sleep_duration)\n",
    "    url = \"https://bmtcmobileapi.karnataka.gov.in/WebAPI/VehicleTripDetails_v2\"\n",
    "\n",
    "    headers = {\n",
    "        \"Content-Type\": \"application/json\",\n",
    "        \"User-Agent\": \"Mozilla/5.0 (Macintosh; Intel Mac OS X 10_15_7) AppleWebKit/537.36 (KHTML, like Gecko) Chrome/138.0.0.0 Safari/537.36\"\n",
    "    }\n",
    "\n",
    "    payload = json.dumps({\"vehicleId\": int(vehicle_id)})\n",
    "    try:\n",
    "        response = requests.post(url, headers=headers, data=payload)\n",
    "        response.raise_for_status()\n",
    "        return response.json()\n",
    "    except requests.exceptions.RequestException as e:\n",
    "        print(f\"Error: {e}\")\n",
    "        print(\"Response text:\", getattr(e.response, \"text\", None))\n",
    "        return None"
   ]
  },
  {
   "cell_type": "code",
   "execution_count": null,
   "id": "784b16db",
   "metadata": {},
   "outputs": [],
   "source": [
    "#| hide\n",
    "#| eval: false\n",
    "\n",
    "directory = data_directory / 'raw' / 'trip_details' / str(int(datetime.datetime.now().timestamp()))\n",
    "directory.mkdir(exist_ok=True, parents=True)\n",
    "\n",
    "for index, row in tqdm(df_vehicles.iterrows(), total = df_vehicles.shape[0], desc = 'Fetching trip details'):\n",
    "    trip_details = fetch_vehicle_trip_details(vehicle_id = row['vehicle_id']) \n",
    "    with open(directory / f\"{row['vehicle_id']}.json\", \"w\") as f:\n",
    "        json.dump(trip_details, f, indent = 4)"
   ]
  },
  {
   "cell_type": "code",
   "execution_count": null,
   "id": "243f2c74",
   "metadata": {},
   "outputs": [],
   "source": []
  },
  {
   "cell_type": "code",
   "execution_count": null,
   "id": "b87cf2ff",
   "metadata": {},
   "outputs": [],
   "source": [
    "# | export\n",
    "def extract_live_location(trip_detail):\n",
    "    \"\"\"Extract live location from trip detail.\"\"\"\n",
    "    try:\n",
    "        locations = trip_detail['LiveLocation']\n",
    "    except TypeError as e:\n",
    "        # When trip_detail is None.\n",
    "        locations = []\n",
    "\n",
    "    # When there are more than one live locations, it's mostly because of the vehicle assigned to more than one route at a time.\n",
    "    # We could use the route details and live location to determine which is the right route that the vehicle is running on.\n",
    "    return locations"
   ]
  },
  {
   "cell_type": "code",
   "execution_count": null,
   "id": "548bacf2",
   "metadata": {},
   "outputs": [],
   "source": [
    "# | export\n",
    "def extract_live_locations(directory: Path):\n",
    "    \"\"\"Extract live location for all trip details in a directory.\"\"\"\n",
    "    live_locations = []\n",
    "    for filepath in tqdm(directory.ls(), total = directory.ls().__len__(), desc = 'Extracting live locations'):\n",
    "        with open(filepath) as f:\n",
    "            trip_detail = json.load(f)\n",
    "            \n",
    "            # Extract live locations.\n",
    "            live_location = extract_live_location(trip_detail)\n",
    "            live_locations += live_location\n",
    "    live_locations = pd.DataFrame(live_locations)\n",
    "    return live_locations"
   ]
  },
  {
   "cell_type": "code",
   "execution_count": null,
   "id": "c4080ba2",
   "metadata": {},
   "outputs": [],
   "source": [
    "#| hide\n",
    "#| eval: false\n",
    "\n",
    "directory = get_latest_directory(data_directory / 'raw' / 'trip_details')\n",
    "df_live_locations = extract_live_locations(directory)\n",
    "\n",
    "df_live_locations.to_csv(data_directory / 'cleaned' / 'live_locations.csv', index=False)\n",
    "print(df_live_locations.shape)\n",
    "df_live_locations.head(3)"
   ]
  },
  {
   "cell_type": "code",
   "execution_count": null,
   "id": "d772ec4c",
   "metadata": {},
   "outputs": [],
   "source": []
  },
  {
   "cell_type": "code",
   "execution_count": null,
   "id": "8d8db2cd",
   "metadata": {},
   "outputs": [],
   "source": []
  },
  {
   "cell_type": "code",
   "execution_count": null,
   "id": "2b1cbe56",
   "metadata": {},
   "outputs": [],
   "source": [
    "#| hide\n",
    "import nbdev; nbdev.nbdev_export()"
   ]
  }
 ],
 "metadata": {
  "kernelspec": {
   "display_name": "python3",
   "language": "python",
   "name": "python3"
  }
 },
 "nbformat": 4,
 "nbformat_minor": 5
}

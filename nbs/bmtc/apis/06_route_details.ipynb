{
 "cells": [
  {
   "cell_type": "markdown",
   "id": "ddaecbfd",
   "metadata": {},
   "source": [
    "# 6. Route Details"
   ]
  },
  {
   "cell_type": "code",
   "execution_count": null,
   "id": "f154196d",
   "metadata": {},
   "outputs": [],
   "source": []
  },
  {
   "cell_type": "markdown",
   "id": "45a5aab7",
   "metadata": {},
   "source": [
    "## Observations\n",
    "\n",
    "- `eta` information is available from this API."
   ]
  },
  {
   "cell_type": "code",
   "execution_count": null,
   "id": "3da3e05c",
   "metadata": {},
   "outputs": [],
   "source": []
  },
  {
   "cell_type": "code",
   "execution_count": null,
   "id": "67bf74f8",
   "metadata": {},
   "outputs": [],
   "source": [
    "%load_ext autoreload\n",
    "%autoreload 2"
   ]
  },
  {
   "cell_type": "code",
   "execution_count": null,
   "id": "64026164",
   "metadata": {},
   "outputs": [],
   "source": [
    "#| default_exp bmtc.apis.route_details"
   ]
  },
  {
   "cell_type": "code",
   "execution_count": null,
   "id": "f8ab03d7",
   "metadata": {},
   "outputs": [],
   "source": [
    "#| hide\n",
    "\n",
    "from nbdev.showdoc import *"
   ]
  },
  {
   "cell_type": "code",
   "execution_count": null,
   "id": "6034ba4b",
   "metadata": {},
   "outputs": [],
   "source": [
    "#| export\n",
    "\n",
    "import json\n",
    "import datetime\n",
    "import time\n",
    "import tarfile\n",
    "\n",
    "from tqdm.auto import tqdm\n",
    "\n",
    "import requests\n",
    "import pandas as pd\n",
    "pd.set_option('display.max_columns', None)\n",
    "\n",
    "from fastcore.all import Path\n",
    "\n",
    "from traffic_data_bengaluru.utils import *\n",
    "from traffic_data_bengaluru.bmtc.apis.routes import get_routes"
   ]
  },
  {
   "cell_type": "code",
   "execution_count": null,
   "id": "fc203b0f",
   "metadata": {},
   "outputs": [],
   "source": [
    "#| export\n",
    "\n",
    "import logging\n",
    "logging.basicConfig(\n",
    "    level=logging.INFO,\n",
    "    format=\"%(asctime)s [%(levelname)s] %(message)s\"\n",
    ")\n",
    "logger = logging.getLogger(__name__)"
   ]
  },
  {
   "cell_type": "code",
   "execution_count": null,
   "id": "9d49f8ac",
   "metadata": {},
   "outputs": [],
   "source": [
    "#| hide\n",
    "#| eval: false\n",
    "\n",
    "data_directory = get_data_directory() / \"bmtc\""
   ]
  },
  {
   "cell_type": "code",
   "execution_count": null,
   "id": "42bd6c4c",
   "metadata": {},
   "outputs": [],
   "source": []
  },
  {
   "cell_type": "code",
   "execution_count": null,
   "id": "2cbfed91",
   "metadata": {},
   "outputs": [],
   "source": [
    "# | export\n",
    "\n",
    "def fetch_route_details(route_id: int, sleep_duration: float = 0.1):\n",
    "    \"\"\"Fetch route details for a given route ID from the BMTC API.\"\"\"\n",
    "    time.sleep(sleep_duration)\n",
    "    url = \"https://bmtcmobileapi.karnataka.gov.in/WebAPI/SearchByRouteDetails_v4\"\n",
    "\n",
    "    headers = {\n",
    "        \"Content-Type\": \"application/json\",\n",
    "        \"User-Agent\": \"Mozilla/5.0 (Macintosh; Intel Mac OS X 10_15_7) AppleWebKit/537.36 (KHTML, like Gecko) Chrome/138.0.0.0 Safari/537.36\",\n",
    "        \"deviceType\": \"WEB\",\n",
    "        'lan': 'en'\n",
    "    }\n",
    "\n",
    "    payload = json.dumps({\"routeid\": int(route_id)})\n",
    "    try:\n",
    "        response = requests.post(url, headers=headers, data=payload)\n",
    "        response.raise_for_status()\n",
    "        return response.json()\n",
    "    except requests.exceptions.RequestException as e:\n",
    "        print(f\"Error: {e}\")\n",
    "        print(\"Response text:\", getattr(e.response, \"text\", None))\n",
    "        return None"
   ]
  },
  {
   "cell_type": "code",
   "execution_count": null,
   "id": "89ac6777",
   "metadata": {},
   "outputs": [],
   "source": [
    "#| hide\n",
    "#| eval: false\n",
    "\n",
    "sample_route_id = 2116\n",
    "sample_route_details = fetch_route_details(route_id = sample_route_id)\n",
    "sample_route_details"
   ]
  },
  {
   "cell_type": "code",
   "execution_count": null,
   "id": "1df69f00",
   "metadata": {},
   "outputs": [],
   "source": []
  },
  {
   "cell_type": "code",
   "execution_count": null,
   "id": "c27de6ab",
   "metadata": {},
   "outputs": [],
   "source": [
    "# | export\n",
    "\n",
    "def extract_route_details(route_details):\n",
    "    details = []\n",
    "    directions = ['up', 'down']\n",
    "    for direction in directions:\n",
    "        stations = route_details[direction]['data']\n",
    "        for station in stations:\n",
    "            for vehicle in station['vehicleDetails']:\n",
    "                detail = {**vehicle, **{k: v for k, v in station.items() if k != \"vehicleDetails\"}}\n",
    "                detail['direction'] = direction\n",
    "                details.append(detail)\n",
    "    df_details = pd.DataFrame(details)\n",
    "    return df_details"
   ]
  },
  {
   "cell_type": "code",
   "execution_count": null,
   "id": "1f30dfc9",
   "metadata": {},
   "outputs": [],
   "source": [
    "#| hide\n",
    "#| eval: false\n",
    "\n",
    "df_route_details = extract_route_details(sample_route_details)\n",
    "print(df_route_details.shape)\n",
    "df_route_details.head(3)"
   ]
  },
  {
   "cell_type": "code",
   "execution_count": null,
   "id": "f21601f6",
   "metadata": {},
   "outputs": [],
   "source": []
  },
  {
   "cell_type": "code",
   "execution_count": null,
   "id": "903b5195",
   "metadata": {},
   "outputs": [],
   "source": [
    "# | export\n",
    "\n",
    "def extract_map_data(route_details):\n",
    "    map_data = []\n",
    "    directions = ['up', 'down']\n",
    "    for direction in directions:\n",
    "        vehicles = route_details[direction]['mapData']\n",
    "        map_data += vehicles\n",
    "    df_map_data = pd.DataFrame(map_data)\n",
    "    return df_map_data"
   ]
  },
  {
   "cell_type": "code",
   "execution_count": null,
   "id": "ba425f37",
   "metadata": {},
   "outputs": [],
   "source": [
    "#| hide\n",
    "#| eval: false\n",
    "\n",
    "df_map_data = extract_map_data(sample_route_details)\n",
    "print(df_map_data.shape)\n",
    "df_map_data.head(3)"
   ]
  },
  {
   "cell_type": "code",
   "execution_count": null,
   "id": "f0d079f3",
   "metadata": {},
   "outputs": [],
   "source": []
  },
  {
   "cell_type": "code",
   "execution_count": null,
   "id": "528eed0f",
   "metadata": {},
   "outputs": [],
   "source": [
    "# | export\n",
    "def task_fetch_route_details(data_directory: Path):\n",
    "    folder_name = f'{str(int(datetime.datetime.now().timestamp()))}'\n",
    "    directory = data_directory / 'raw' / 'route_details' / folder_name\n",
    "    directory.mkdir(exist_ok=True, parents=True)\n",
    "\n",
    "    logger.info(\"Fetching route details ...\")\n",
    "    df_routes = get_routes(data_directory)\n",
    "    for index, row in tqdm(df_routes.iterrows(), total = df_routes.shape[0], desc = 'Fetching route details'):\n",
    "        route_details = fetch_route_details(route_id = row['route_id']) \n",
    "        with open(directory / f\"{row['route_id']}.json\", \"w\") as f:\n",
    "            json.dump(route_details, f, indent = 4)\n",
    "\n",
    "    tar_path = directory.with_suffix('.tar.gz')\n",
    "    with tarfile.open(tar_path, \"w:gz\") as tar:\n",
    "        tar.add(directory, arcname=directory.name)\n",
    "    logger.info(f\"Compressed {directory} into {tar_path}\")\n",
    "    \n",
    "    # TODO: Delete the raw json files after successfully creating the compressed file."
   ]
  },
  {
   "cell_type": "code",
   "execution_count": null,
   "id": "74ae22ba",
   "metadata": {},
   "outputs": [],
   "source": [
    "#| hide\n",
    "#| eval: false\n",
    "\n",
    "task_fetch_route_details(data_directory)"
   ]
  },
  {
   "cell_type": "code",
   "execution_count": null,
   "id": "b97ec94d",
   "metadata": {},
   "outputs": [],
   "source": []
  },
  {
   "cell_type": "code",
   "execution_count": null,
   "id": "681b4d5b",
   "metadata": {},
   "outputs": [],
   "source": [
    "# | export\n",
    "def get_route_details(data_directory: Path):\n",
    "    dfs = []\n",
    "    directory = get_latest_directory(data_directory / 'raw' / 'route_details')\n",
    "    for file in tqdm(extract_files(directory), total = len(extract_files(directory))):\n",
    "        dfs.append(extract_route_details(read_file(file)))\n",
    "    df_route_details = pd.concat(dfs, ignore_index=True)\n",
    "    df_route_details = df_route_details.drop_duplicates().reset_index(drop = True)\n",
    "    return df_route_details"
   ]
  },
  {
   "cell_type": "code",
   "execution_count": null,
   "id": "89ca173e",
   "metadata": {},
   "outputs": [],
   "source": [
    "#| hide\n",
    "#| eval: false\n",
    "\n",
    "df_route_details = get_route_details(data_directory)\n",
    "\n",
    "print(df_route_details.shape)\n",
    "df_route_details.head(3)"
   ]
  },
  {
   "cell_type": "code",
   "execution_count": null,
   "id": "98741f2c",
   "metadata": {},
   "outputs": [],
   "source": []
  },
  {
   "cell_type": "code",
   "execution_count": null,
   "id": "61e54099",
   "metadata": {},
   "outputs": [],
   "source": [
    "# | export\n",
    "def get_map_data(data_directory: Path):\n",
    "    dfs = []\n",
    "    files = extract_files(get_latest_file(data_directory / 'raw' / 'route_details'))\n",
    "    for file in tqdm(files, total = len(files)):\n",
    "        dfs.append(extract_map_data(read_file(file)))\n",
    "    df_map_data = pd.concat(dfs, ignore_index=True)\n",
    "    df_map_data = df_map_data.drop_duplicates().reset_index(drop = True)\n",
    "    return df_map_data"
   ]
  },
  {
   "cell_type": "code",
   "execution_count": null,
   "id": "f80a8e0f",
   "metadata": {},
   "outputs": [],
   "source": [
    "#| hide\n",
    "#| eval: false\n",
    "\n",
    "df_map_data = get_map_data(data_directory)\n",
    "\n",
    "print(df_map_data.shape)\n",
    "df_map_data.head(3)"
   ]
  },
  {
   "cell_type": "code",
   "execution_count": null,
   "id": "a35ed574",
   "metadata": {},
   "outputs": [],
   "source": []
  },
  {
   "cell_type": "code",
   "execution_count": null,
   "id": "57d2813f",
   "metadata": {},
   "outputs": [],
   "source": [
    "# | export\n",
    "def get_vehicle_count(route_details):\n",
    "    \"\"\"Return total number of vehicles in route for both directions.\"\"\"\n",
    "    vehicles_count = 0\n",
    "    directions = ['up', 'down']\n",
    "    for direction in directions:\n",
    "        if direction in route_details:\n",
    "            vehicles_count += len(route_details[direction]['mapData'])\n",
    "    return vehicles_count"
   ]
  },
  {
   "cell_type": "code",
   "execution_count": null,
   "id": "9e4e6719",
   "metadata": {},
   "outputs": [],
   "source": [
    "#| hide\n",
    "#| eval: false\n",
    "get_vehicle_count(sample_route_details)"
   ]
  },
  {
   "cell_type": "code",
   "execution_count": null,
   "id": "cee067c8",
   "metadata": {},
   "outputs": [],
   "source": [
    "#| hide\n",
    "#| eval: false\n",
    "\n",
    "vehicle_counts = {}\n",
    "directory = get_latest_directory(data_directory / 'raw' / 'route_details')\n",
    "for file in tqdm(extract_files(directory), total = len(extract_files(directory))):\n",
    "    vehicle_counts[int(extract_file_name(file))] = get_vehicle_count(read_file(file))\n",
    "\n",
    "df_vehicle_counts = pd.DataFrame({\n",
    "    'route_id': vehicle_counts.keys(),\n",
    "    'vehicle_count': vehicle_counts.values()\n",
    "}).sort_values(by = 'vehicle_count', ascending = False)\n",
    "print(df_vehicle_counts.shape)\n",
    "df_vehicle_counts.head(3)"
   ]
  },
  {
   "cell_type": "code",
   "execution_count": null,
   "id": "48c160eb",
   "metadata": {},
   "outputs": [],
   "source": []
  },
  {
   "cell_type": "code",
   "execution_count": null,
   "id": "74d2c56f",
   "metadata": {},
   "outputs": [],
   "source": [
    "#| hide\n",
    "#| eval: false\n",
    "\n",
    "pd.merge(\n",
    "    df_vehicle_counts, \n",
    "    get_routes(data_directory),\n",
    "    on = 'route_id',\n",
    "    how = 'left'\n",
    ").head(20)['route_id'].tolist()"
   ]
  },
  {
   "cell_type": "code",
   "execution_count": null,
   "id": "4cba8adc",
   "metadata": {},
   "outputs": [],
   "source": []
  },
  {
   "cell_type": "code",
   "execution_count": null,
   "id": "717223ba",
   "metadata": {},
   "outputs": [],
   "source": []
  },
  {
   "cell_type": "code",
   "execution_count": null,
   "id": "7ddd4e7a",
   "metadata": {},
   "outputs": [],
   "source": [
    "# | export\n",
    "def task_fetch_route_details_v2(data_directory: Path):\n",
    "    \"\"\"v2 of fetch route details, routes with the most vehicles.\"\"\"\n",
    "    logger.info(\"Fetching route details v2 ...\")\n",
    "\n",
    "    route_ids = [1066, 1100, 995, 1558, 1659, 1387, 1508, 1086, 1133, 1732, 1507, 1324, 1705, 1109, 1419, 8543, 1173, 2802, 1164, 2254]\n",
    "    for route_id in tqdm(route_ids, desc = 'Fetching route details v2'):\n",
    "\n",
    "        # Create a directory for every route.\n",
    "        directory = data_directory / 'raw' / 'route_details_v2' / str(route_id)\n",
    "        directory.mkdir(exist_ok=True, parents=True)\n",
    "\n",
    "        route_details = fetch_route_details(route_id = route_id)\n",
    "        filename = f'{str(int(datetime.datetime.now().timestamp()))}'\n",
    "        filepath = directory / f'{filename}.json'\n",
    "        with open(filepath, \"w\") as f:\n",
    "            json.dump(route_details, f, indent = 4)"
   ]
  },
  {
   "cell_type": "code",
   "execution_count": null,
   "id": "71e3f2a7",
   "metadata": {},
   "outputs": [],
   "source": [
    "#| hide\n",
    "#| eval: false\n",
    "\n",
    "task_fetch_route_details_v2(data_directory)"
   ]
  },
  {
   "cell_type": "code",
   "execution_count": null,
   "id": "152d6d5c",
   "metadata": {},
   "outputs": [],
   "source": []
  },
  {
   "cell_type": "code",
   "execution_count": null,
   "id": "cd037ad0",
   "metadata": {},
   "outputs": [],
   "source": [
    "#| hide\n",
    "\n",
    "import nbdev; nbdev.nbdev_export()"
   ]
  },
  {
   "cell_type": "code",
   "execution_count": null,
   "id": "6ef6283f",
   "metadata": {},
   "outputs": [],
   "source": []
  }
 ],
 "metadata": {
  "kernelspec": {
   "display_name": "python3",
   "language": "python",
   "name": "python3"
  }
 },
 "nbformat": 4,
 "nbformat_minor": 5
}

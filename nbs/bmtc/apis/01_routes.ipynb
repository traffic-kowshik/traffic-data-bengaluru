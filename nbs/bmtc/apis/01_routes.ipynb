{
 "cells": [
  {
   "cell_type": "markdown",
   "id": "50625a6b",
   "metadata": {},
   "source": [
    "# 1. Routes\n",
    "\n",
    "> Takes a route text for regex matching and returns matching routes in response."
   ]
  },
  {
   "cell_type": "markdown",
   "id": "182b6e12",
   "metadata": {},
   "source": [
    "## Sample request\n",
    "\n",
    "```bash\n",
    "curl 'https://bmtcmobileapi.karnataka.gov.in/WebAPI/SearchRoute_v2' \\\n",
    "  -H 'Content-Type: application/json' \\\n",
    "  -H 'User-Agent: Mozilla/5.0 (Macintosh; Intel Mac OS X 10_15_7) AppleWebKit/537.36 (KHTML, like Gecko) Chrome/138.0.0.0 Safari/537.36' \\\n",
    "  -H 'lan: en' \\\n",
    "  --data-raw '{\"routetext\":\"210\"}'\n",
    "```"
   ]
  },
  {
   "cell_type": "markdown",
   "id": "bb1ad140",
   "metadata": {},
   "source": [
    "## Sample response\n",
    "\n",
    "```json\n",
    "{\n",
    "    \"data\": [\n",
    "        {\n",
    "            \"union_rowno\": 2,\n",
    "            \"row\": 1,\n",
    "            \"routeno\": \"210-A\",\n",
    "            \"responsecode\": 200,\n",
    "            \"routeparentid\": 7426\n",
    "        },\n",
    "        {\n",
    "            \"union_rowno\": 2,\n",
    "            \"row\": 3,\n",
    "            \"routeno\": \"210-AA\",\n",
    "            \"responsecode\": 200,\n",
    "            \"routeparentid\": 7427\n",
    "        }\n",
    "    ],\n",
    "    \"Message\": \"Success\",\n",
    "    \"Issuccess\": true,\n",
    "    \"exception\": null,\n",
    "    \"RowCount\": 53,\n",
    "    \"responsecode\": 200\n",
    "}\n",
    "```"
   ]
  },
  {
   "cell_type": "code",
   "execution_count": null,
   "id": "59d1bd9f",
   "metadata": {},
   "outputs": [],
   "source": [
    "%load_ext autoreload\n",
    "%autoreload 2"
   ]
  },
  {
   "cell_type": "code",
   "execution_count": null,
   "id": "4e10c7d4",
   "metadata": {},
   "outputs": [],
   "source": [
    "#| default_exp bmtc.apis.routes"
   ]
  },
  {
   "cell_type": "code",
   "execution_count": null,
   "id": "e225a941",
   "metadata": {},
   "outputs": [],
   "source": [
    "#| hide\n",
    "from nbdev.showdoc import *"
   ]
  },
  {
   "cell_type": "code",
   "execution_count": null,
   "id": "fd9f0af1",
   "metadata": {},
   "outputs": [],
   "source": [
    "#| export\n",
    "import string\n",
    "import json\n",
    "import time\n",
    "import datetime\n",
    "from tqdm import tqdm\n",
    "import geojson\n",
    "\n",
    "import requests\n",
    "import pandas as pd\n",
    "from fastcore.all import Path\n",
    "from traffic_data_bengaluru.utils import *\n",
    "from nbdev.config import get_config"
   ]
  },
  {
   "cell_type": "code",
   "execution_count": null,
   "id": "16cb8974",
   "metadata": {},
   "outputs": [],
   "source": [
    "#| export\n",
    "import logging\n",
    "logging.basicConfig(\n",
    "    level=logging.INFO,\n",
    "    format=\"%(asctime)s [%(levelname)s] %(message)s\"\n",
    ")\n",
    "logger = logging.getLogger(__name__)"
   ]
  },
  {
   "cell_type": "code",
   "execution_count": null,
   "id": "adfbe502",
   "metadata": {},
   "outputs": [],
   "source": []
  },
  {
   "cell_type": "code",
   "execution_count": null,
   "id": "4d653b3c",
   "metadata": {},
   "outputs": [],
   "source": [
    "#| hide\n",
    "#| eval: false\n",
    "\n",
    "cfg = get_config()\n",
    "repo_directory = Path(cfg.nbs_path).parent\n",
    "\n",
    "data_directory = repo_directory / \"data\" / \"bmtc\"\n",
    "data_directory.mkdir(exist_ok=True, parents=True)"
   ]
  },
  {
   "cell_type": "code",
   "execution_count": null,
   "id": "4f26e52a",
   "metadata": {},
   "outputs": [],
   "source": []
  },
  {
   "cell_type": "markdown",
   "id": "4fcc2336",
   "metadata": {},
   "source": [
    "# Functions"
   ]
  },
  {
   "cell_type": "code",
   "execution_count": null,
   "id": "2be7d08d",
   "metadata": {},
   "outputs": [],
   "source": [
    "#| export\n",
    "def fetch_routes(pattern: str = \"\", sleep_duration: float = 0.1):\n",
    "    \"\"\"Fetches BMTC routes matching the given pattern, or all routes if pattern is empty.\"\"\"\n",
    "    time.sleep(sleep_duration)\n",
    "    url = \"https://bmtcmobileapi.karnataka.gov.in/WebAPI/SearchRoute_v2\"\n",
    "\n",
    "    headers = {\n",
    "        \"Content-Type\": \"application/json\",\n",
    "        \"User-Agent\": \"Mozilla/5.0 (Macintosh; Intel Mac OS X 10_15_7) AppleWebKit/537.36 (KHTML, like Gecko) Chrome/138.0.0.0 Safari/537.36\",\n",
    "        \"lan\": \"en\"\n",
    "    }\n",
    "\n",
    "    if pattern != '':\n",
    "        payload = {\"routetext\": pattern}\n",
    "        try:\n",
    "            response = requests.post(url, headers=headers, json=payload)\n",
    "            response.raise_for_status()\n",
    "            return response.json()['data']\n",
    "        except requests.exceptions.RequestException as e:\n",
    "            print(f\"Error: {e}\")\n",
    "            return None\n",
    "    else:\n",
    "        routes = []\n",
    "        characters = string.digits + string.ascii_lowercase\n",
    "        for pattern in tqdm(characters, desc = 'Fetching routes'):\n",
    "            routes += fetch_routes(pattern)\n",
    "        return routes"
   ]
  },
  {
   "cell_type": "code",
   "execution_count": null,
   "id": "3ae6ebf4",
   "metadata": {},
   "outputs": [
    {
     "name": "stdout",
     "output_type": "stream",
     "text": [
      "[\n",
      "    {\n",
      "        \"union_rowno\": 2,\n",
      "        \"row\": 1,\n",
      "        \"routeno\": \"210-NA\",\n",
      "        \"responsecode\": 200,\n",
      "        \"routeparentid\": 2504\n",
      "    },\n",
      "    {\n",
      "        \"union_rowno\": 2,\n",
      "        \"row\": 3,\n",
      "        \"routeno\": \"210-NA PPLO-KMK\",\n",
      "        \"responsecode\": 200,\n",
      "        \"routeparentid\": 3896\n",
      "    }\n",
      "]\n"
     ]
    }
   ],
   "source": [
    "#| hide\n",
    "#| eval: false\n",
    "\n",
    "routes = fetch_routes(pattern = '210-NA')\n",
    "print(json.dumps(routes, indent=4))"
   ]
  },
  {
   "cell_type": "code",
   "execution_count": null,
   "id": "4e8d980d",
   "metadata": {},
   "outputs": [],
   "source": []
  },
  {
   "cell_type": "code",
   "execution_count": null,
   "id": "a32a6845",
   "metadata": {},
   "outputs": [],
   "source": [
    "#| export\n",
    "def process_routes(routes):\n",
    "    \"\"\"Process and clean route data, returning a DataFrame with `route_id` and `route_number`.\"\"\"\n",
    "    df_routes = pd.DataFrame(routes)\n",
    "    df_routes = df_routes.drop_duplicates(subset=[\"routeno\"], keep=\"first\")\n",
    "\n",
    "    df_routes.rename(columns = {'routeno': 'route_number', 'routeparentid': 'route_id'}, inplace=True)\n",
    "    df_routes = df_routes.sort_values(by='route_id').reset_index(drop=True)\n",
    "    columns = ['route_id', 'route_number']\n",
    "    return df_routes[columns]"
   ]
  },
  {
   "cell_type": "code",
   "execution_count": null,
   "id": "b0ad32e4",
   "metadata": {},
   "outputs": [
    {
     "data": {
      "text/html": [
       "<div>\n",
       "<style scoped>\n",
       "    .dataframe tbody tr th:only-of-type {\n",
       "        vertical-align: middle;\n",
       "    }\n",
       "\n",
       "    .dataframe tbody tr th {\n",
       "        vertical-align: top;\n",
       "    }\n",
       "\n",
       "    .dataframe thead th {\n",
       "        text-align: right;\n",
       "    }\n",
       "</style>\n",
       "<table border=\"1\" class=\"dataframe\">\n",
       "  <thead>\n",
       "    <tr style=\"text-align: right;\">\n",
       "      <th></th>\n",
       "      <th>route_id</th>\n",
       "      <th>route_number</th>\n",
       "    </tr>\n",
       "  </thead>\n",
       "  <tbody>\n",
       "    <tr>\n",
       "      <th>0</th>\n",
       "      <td>2504</td>\n",
       "      <td>210-NA</td>\n",
       "    </tr>\n",
       "    <tr>\n",
       "      <th>1</th>\n",
       "      <td>3896</td>\n",
       "      <td>210-NA PPLO-KMK</td>\n",
       "    </tr>\n",
       "  </tbody>\n",
       "</table>\n",
       "</div>"
      ],
      "text/plain": [
       "   route_id     route_number\n",
       "0      2504           210-NA\n",
       "1      3896  210-NA PPLO-KMK"
      ]
     },
     "execution_count": null,
     "metadata": {},
     "output_type": "execute_result"
    }
   ],
   "source": [
    "#| hide\n",
    "#| eval: false\n",
    "df_routes = process_routes(routes)\n",
    "df_routes"
   ]
  },
  {
   "cell_type": "code",
   "execution_count": null,
   "id": "7dab3747",
   "metadata": {},
   "outputs": [],
   "source": []
  },
  {
   "cell_type": "code",
   "execution_count": null,
   "id": "98d0f9f7",
   "metadata": {},
   "outputs": [],
   "source": [
    "#| export\n",
    "def task_fetch_routes(data_directory):\n",
    "    filename = f'{str(int(datetime.datetime.now().timestamp()))}'\n",
    "\n",
    "    logger.info(\"Fetching routes ...\")\n",
    "    routes = fetch_routes()\n",
    "\n",
    "    filepath = data_directory / 'raw' / 'routes' / f'{filename}.json'\n",
    "    filepath.parent.mkdir(parents=True, exist_ok=True)\n",
    "    with open(filepath, 'w') as f:\n",
    "        json.dump(routes, f, indent=2)\n",
    "    logger.info(f\"Raw routes saved successfully to {filepath}\")\n",
    "\n",
    "    logger.info(\"Processing routes ...\")\n",
    "    df_routes = process_routes(routes)\n",
    "\n",
    "    filepath = data_directory / 'cleaned' / 'routes' / f'{filename}.csv'\n",
    "    filepath.parent.mkdir(parents=True, exist_ok=True)\n",
    "    df_routes.to_csv(filepath, index=False)\n",
    "    logger.info(f\"Processed routes saved successfully to {filepath}\")"
   ]
  },
  {
   "cell_type": "code",
   "execution_count": null,
   "id": "f42694c7",
   "metadata": {},
   "outputs": [
    {
     "name": "stderr",
     "output_type": "stream",
     "text": [
      "2025-09-24 23:19:56,358 - INFO - Fetching routes ...\n"
     ]
    },
    {
     "name": "stderr",
     "output_type": "stream",
     "text": [
      "Fetching routes: 100%|██████████| 36/36 [00:12<00:00,  2.87it/s]\n",
      "2025-09-24 23:20:09,214 - INFO - Raw routes saved successfully to /Users/bkowshik/code/traffic-kowshik/traffic-data-bengaluru/data/bmtc/raw/routes/1758736196.json\n",
      "2025-09-24 23:20:09,214 - INFO - Processing routes ...\n",
      "2025-09-24 23:20:09,246 - INFO - Processed routes saved successfully to /Users/bkowshik/code/traffic-kowshik/traffic-data-bengaluru/data/bmtc/cleaned/routes/1758736196.csv\n"
     ]
    }
   ],
   "source": [
    "#| hide\n",
    "#| eval: false\n",
    "\n",
    "task_fetch_routes(data_directory=data_directory)"
   ]
  },
  {
   "cell_type": "code",
   "execution_count": null,
   "id": "e8a866c8",
   "metadata": {},
   "outputs": [],
   "source": []
  },
  {
   "cell_type": "code",
   "execution_count": null,
   "id": "e64665a2",
   "metadata": {},
   "outputs": [],
   "source": [
    "#| export\n",
    "def get_routes(data_directory: Path):\n",
    "    filepath = get_latest_directory(data_directory / \"cleaned\" / \"routes\")\n",
    "    routes = pd.read_csv(filepath)\n",
    "    return routes"
   ]
  },
  {
   "cell_type": "code",
   "execution_count": null,
   "id": "7447ab34",
   "metadata": {},
   "outputs": [
    {
     "name": "stdout",
     "output_type": "stream",
     "text": [
      "(5633, 2)\n"
     ]
    },
    {
     "data": {
      "text/html": [
       "<div>\n",
       "<style scoped>\n",
       "    .dataframe tbody tr th:only-of-type {\n",
       "        vertical-align: middle;\n",
       "    }\n",
       "\n",
       "    .dataframe tbody tr th {\n",
       "        vertical-align: top;\n",
       "    }\n",
       "\n",
       "    .dataframe thead th {\n",
       "        text-align: right;\n",
       "    }\n",
       "</style>\n",
       "<table border=\"1\" class=\"dataframe\">\n",
       "  <thead>\n",
       "    <tr style=\"text-align: right;\">\n",
       "      <th></th>\n",
       "      <th>route_id</th>\n",
       "      <th>route_number</th>\n",
       "    </tr>\n",
       "  </thead>\n",
       "  <tbody>\n",
       "    <tr>\n",
       "      <th>0</th>\n",
       "      <td>991</td>\n",
       "      <td>89-C</td>\n",
       "    </tr>\n",
       "    <tr>\n",
       "      <th>1</th>\n",
       "      <td>992</td>\n",
       "      <td>333-E</td>\n",
       "    </tr>\n",
       "    <tr>\n",
       "      <th>2</th>\n",
       "      <td>993</td>\n",
       "      <td>13</td>\n",
       "    </tr>\n",
       "    <tr>\n",
       "      <th>3</th>\n",
       "      <td>994</td>\n",
       "      <td>D3-SNBS</td>\n",
       "    </tr>\n",
       "    <tr>\n",
       "      <th>4</th>\n",
       "      <td>995</td>\n",
       "      <td>KBS-3A</td>\n",
       "    </tr>\n",
       "  </tbody>\n",
       "</table>\n",
       "</div>"
      ],
      "text/plain": [
       "   route_id route_number\n",
       "0       991         89-C\n",
       "1       992        333-E\n",
       "2       993           13\n",
       "3       994      D3-SNBS\n",
       "4       995       KBS-3A"
      ]
     },
     "execution_count": null,
     "metadata": {},
     "output_type": "execute_result"
    }
   ],
   "source": [
    "#| hide\n",
    "#| eval: false\n",
    "df_routes = get_routes(data_directory)\n",
    "print(df_routes.shape)\n",
    "df_routes.head()"
   ]
  },
  {
   "cell_type": "code",
   "execution_count": null,
   "id": "8c32cd87",
   "metadata": {},
   "outputs": [],
   "source": []
  },
  {
   "cell_type": "code",
   "execution_count": null,
   "id": "c76cca1e",
   "metadata": {},
   "outputs": [],
   "source": [
    "#| hide\n",
    "import nbdev; nbdev.nbdev_export()"
   ]
  },
  {
   "cell_type": "code",
   "execution_count": null,
   "id": "767a7cd1",
   "metadata": {},
   "outputs": [],
   "source": []
  }
 ],
 "metadata": {
  "kernelspec": {
   "display_name": "python3",
   "language": "python",
   "name": "python3"
  }
 },
 "nbformat": 4,
 "nbformat_minor": 5
}

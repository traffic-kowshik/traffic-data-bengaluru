{
 "cells": [
  {
   "cell_type": "markdown",
   "id": "50625a6b",
   "metadata": {},
   "source": [
    "# 1. Routes\n",
    "\n",
    "> Takes a route text for regex matching and returns matching routes in response."
   ]
  },
  {
   "cell_type": "markdown",
   "id": "182b6e12",
   "metadata": {},
   "source": [
    "## Sample request\n",
    "\n",
    "```bash\n",
    "curl 'https://bmtcmobileapi.karnataka.gov.in/WebAPI/SearchRoute_v2' \\\n",
    "  -H 'Content-Type: application/json' \\\n",
    "  -H 'User-Agent: Mozilla/5.0 (Macintosh; Intel Mac OS X 10_15_7) AppleWebKit/537.36 (KHTML, like Gecko) Chrome/138.0.0.0 Safari/537.36' \\\n",
    "  -H 'lan: en' \\\n",
    "  --data-raw '{\"routetext\":\"210\"}'\n",
    "```"
   ]
  },
  {
   "cell_type": "markdown",
   "id": "bb1ad140",
   "metadata": {},
   "source": [
    "## Sample response\n",
    "\n",
    "```json\n",
    "{\n",
    "    \"data\": [\n",
    "        {\n",
    "            \"union_rowno\": 2,\n",
    "            \"row\": 1,\n",
    "            \"routeno\": \"210-A\",\n",
    "            \"responsecode\": 200,\n",
    "            \"routeparentid\": 7426\n",
    "        },\n",
    "        {\n",
    "            \"union_rowno\": 2,\n",
    "            \"row\": 3,\n",
    "            \"routeno\": \"210-AA\",\n",
    "            \"responsecode\": 200,\n",
    "            \"routeparentid\": 7427\n",
    "        }\n",
    "    ],\n",
    "    \"Message\": \"Success\",\n",
    "    \"Issuccess\": true,\n",
    "    \"exception\": null,\n",
    "    \"RowCount\": 53,\n",
    "    \"responsecode\": 200\n",
    "}\n",
    "```"
   ]
  },
  {
   "cell_type": "code",
   "execution_count": null,
   "id": "59d1bd9f",
   "metadata": {},
   "outputs": [],
   "source": [
    "%load_ext autoreload\n",
    "%autoreload 2"
   ]
  },
  {
   "cell_type": "code",
   "execution_count": null,
   "id": "4e10c7d4",
   "metadata": {},
   "outputs": [],
   "source": [
    "#| default_exp bmtc.apis.routes"
   ]
  },
  {
   "cell_type": "code",
   "execution_count": null,
   "id": "e225a941",
   "metadata": {},
   "outputs": [],
   "source": [
    "#| hide\n",
    "from nbdev.showdoc import *"
   ]
  },
  {
   "cell_type": "code",
   "execution_count": null,
   "id": "fd9f0af1",
   "metadata": {},
   "outputs": [],
   "source": [
    "#| export\n",
    "import string\n",
    "import json\n",
    "import time\n",
    "import datetime\n",
    "from tqdm import tqdm\n",
    "import geojson\n",
    "\n",
    "import logging\n",
    "logging.basicConfig(\n",
    "    level=logging.INFO,\n",
    "    format=\"%(asctime)s - %(levelname)s - %(message)s\"\n",
    ")\n",
    "\n",
    "import requests\n",
    "import pandas as pd\n",
    "from fastcore.all import Path\n",
    "from traffic_data_bengaluru.utils import *"
   ]
  },
  {
   "cell_type": "code",
   "execution_count": null,
   "id": "adfbe502",
   "metadata": {},
   "outputs": [],
   "source": []
  },
  {
   "cell_type": "code",
   "execution_count": null,
   "id": "4d653b3c",
   "metadata": {},
   "outputs": [],
   "source": [
    "#| hide\n",
    "#| eval: false\n",
    "\n",
    "data_directory = Path('../data/bmtc/')\n",
    "data_directory.mkdir(exist_ok=True, parents=True)"
   ]
  },
  {
   "cell_type": "code",
   "execution_count": null,
   "id": "869d2506",
   "metadata": {},
   "outputs": [],
   "source": []
  },
  {
   "cell_type": "markdown",
   "id": "4fcc2336",
   "metadata": {},
   "source": [
    "# Functions"
   ]
  },
  {
   "cell_type": "code",
   "execution_count": null,
   "id": "2be7d08d",
   "metadata": {},
   "outputs": [],
   "source": [
    "#| export\n",
    "def fetch_routes(pattern: str = \"\", sleep_duration: float = 0.1):\n",
    "    \"\"\"Fetches BMTC routes matching the given pattern, or all routes if pattern is empty.\"\"\"\n",
    "    time.sleep(sleep_duration)\n",
    "    url = \"https://bmtcmobileapi.karnataka.gov.in/WebAPI/SearchRoute_v2\"\n",
    "\n",
    "    headers = {\n",
    "        \"Content-Type\": \"application/json\",\n",
    "        \"User-Agent\": \"Mozilla/5.0 (Macintosh; Intel Mac OS X 10_15_7) AppleWebKit/537.36 (KHTML, like Gecko) Chrome/138.0.0.0 Safari/537.36\",\n",
    "        \"lan\": \"en\"\n",
    "    }\n",
    "\n",
    "    if pattern != '':\n",
    "        payload = {\"routetext\": pattern}\n",
    "        try:\n",
    "            response = requests.post(url, headers=headers, json=payload)\n",
    "            response.raise_for_status()\n",
    "            return response.json()['data']\n",
    "        except requests.exceptions.RequestException as e:\n",
    "            print(f\"Error: {e}\")\n",
    "            return None\n",
    "    else:\n",
    "        routes = []\n",
    "        characters = string.digits + string.ascii_lowercase\n",
    "        for pattern in tqdm(characters, desc = 'Fetching routes'):\n",
    "            routes += fetch_routes(pattern)\n",
    "        return routes"
   ]
  },
  {
   "cell_type": "code",
   "execution_count": null,
   "id": "3ae6ebf4",
   "metadata": {},
   "outputs": [],
   "source": [
    "#| hide\n",
    "#| eval: false\n",
    "\n",
    "routes = fetch_routes(pattern = '210-NA')\n",
    "print(json.dumps(routes, indent=4))"
   ]
  },
  {
   "cell_type": "code",
   "execution_count": null,
   "id": "4e8d980d",
   "metadata": {},
   "outputs": [],
   "source": []
  },
  {
   "cell_type": "code",
   "execution_count": null,
   "id": "a32a6845",
   "metadata": {},
   "outputs": [],
   "source": [
    "#| export\n",
    "def process_routes(routes):\n",
    "    \"\"\"Process and clean route data, returning a DataFrame with `route_id` and `route_number`.\"\"\"\n",
    "    df_routes = pd.DataFrame(routes)\n",
    "    df_routes = df_routes.drop_duplicates(subset=[\"routeno\"], keep=\"first\")\n",
    "\n",
    "    df_routes.rename(columns = {'routeno': 'route_number', 'routeparentid': 'route_id'}, inplace=True)\n",
    "    df_routes = df_routes.sort_values(by='route_id').reset_index(drop=True)\n",
    "    columns = ['route_id', 'route_number']\n",
    "    return df_routes[columns]"
   ]
  },
  {
   "cell_type": "code",
   "execution_count": null,
   "id": "b0ad32e4",
   "metadata": {},
   "outputs": [],
   "source": [
    "#| hide\n",
    "#| eval: false\n",
    "df_routes = process_routes(routes)\n",
    "df_routes"
   ]
  },
  {
   "cell_type": "code",
   "execution_count": null,
   "id": "7dab3747",
   "metadata": {},
   "outputs": [],
   "source": []
  },
  {
   "cell_type": "code",
   "execution_count": null,
   "id": "e64665a2",
   "metadata": {},
   "outputs": [],
   "source": [
    "#| export\n",
    "def get_routes(data_directory: Path):\n",
    "    filepath = get_latest_directory(data_directory / \"cleaned\" / \"routes\")\n",
    "    routes = pd.read_csv(filepath)\n",
    "    return routes"
   ]
  },
  {
   "cell_type": "code",
   "execution_count": null,
   "id": "7447ab34",
   "metadata": {},
   "outputs": [],
   "source": [
    "#| hide\n",
    "#| eval: false\n",
    "df_routes = get_routes(data_directory)\n",
    "print(df_routes.shape)\n",
    "df_routes.head()"
   ]
  },
  {
   "cell_type": "code",
   "execution_count": null,
   "id": "8c32cd87",
   "metadata": {},
   "outputs": [],
   "source": []
  },
  {
   "cell_type": "code",
   "execution_count": null,
   "id": "c76cca1e",
   "metadata": {},
   "outputs": [],
   "source": [
    "#| hide\n",
    "import nbdev; nbdev.nbdev_export()"
   ]
  },
  {
   "cell_type": "code",
   "execution_count": null,
   "id": "767a7cd1",
   "metadata": {},
   "outputs": [],
   "source": []
  }
 ],
 "metadata": {
  "kernelspec": {
   "display_name": "python3",
   "language": "python",
   "name": "python3"
  }
 },
 "nbformat": 4,
 "nbformat_minor": 5
}

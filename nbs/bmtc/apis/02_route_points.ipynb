{
 "cells": [
  {
   "cell_type": "markdown",
   "id": "5c912443",
   "metadata": {},
   "source": [
    "# 2. Route Points\n",
    "\n",
    "> Takes `route_id` as input and returns geo-locations of the route to be taken in response. There isn't an identifier for the bus stop in this dataset. Instead it'points are at regular distance along the route."
   ]
  },
  {
   "cell_type": "markdown",
   "id": "2aefb5cc",
   "metadata": {},
   "source": [
    "## Sample request\n",
    "\n",
    "```bash\n",
    "curl -X POST 'https://bmtcmobileapi.karnataka.gov.in/WebAPI/RoutePoints' \\\n",
    "  -H 'Content-Type: application/json' \\\n",
    "  -H 'User-Agent: Mozilla/5.0 (Macintosh; Intel Mac OS X 10_15_7) AppleWebKit/537.36 (KHTML, like Gecko) Chrome/138.0.0.0 Safari/537.36' \\\n",
    "  -d '{\"routeid\":3796}'\n",
    "```"
   ]
  },
  {
   "cell_type": "markdown",
   "id": "2549b440",
   "metadata": {},
   "source": [
    "## Sample response\n",
    "\n",
    "```json\n",
    "{\n",
    "    \"data\": [\n",
    "        {\n",
    "            \"latitude\": \"12.97751\",\n",
    "            \"longitude\": \"77.57141\",\n",
    "            \"responsecode\": 200\n",
    "        },\n",
    "        {\n",
    "            \"latitude\": \"12.97749\",\n",
    "            \"longitude\": \"77.57098\",\n",
    "            \"responsecode\": 200\n",
    "        },\n",
    "        {\n",
    "            \"latitude\": \"12.905319\",\n",
    "            \"longitude\": \"77.543217\",\n",
    "            \"responsecode\": 200\n",
    "        },\n",
    "        {\n",
    "            \"latitude\": \"12.905319\",\n",
    "            \"longitude\": \"77.543217\",\n",
    "            \"responsecode\": 200\n",
    "        }\n",
    "    ],\n",
    "    \"Message\": \"Success\",\n",
    "    \"Issuccess\": true,\n",
    "    \"exception\": null,\n",
    "    \"RowCount\": 560,\n",
    "    \"responsecode\": 200\n",
    "}\n",
    "```"
   ]
  },
  {
   "cell_type": "code",
   "execution_count": null,
   "id": "612ce311",
   "metadata": {},
   "outputs": [],
   "source": []
  },
  {
   "cell_type": "code",
   "execution_count": null,
   "id": "e13e16a6",
   "metadata": {},
   "outputs": [],
   "source": [
    "%load_ext autoreload\n",
    "%autoreload 2"
   ]
  },
  {
   "cell_type": "code",
   "execution_count": null,
   "id": "8a3019f0",
   "metadata": {},
   "outputs": [],
   "source": [
    "#| default_exp bmtc.apis.route_points"
   ]
  },
  {
   "cell_type": "code",
   "execution_count": null,
   "id": "931b65c6",
   "metadata": {},
   "outputs": [],
   "source": [
    "#| hide\n",
    "from nbdev.showdoc import *"
   ]
  },
  {
   "cell_type": "code",
   "execution_count": null,
   "id": "7f1448ce",
   "metadata": {},
   "outputs": [],
   "source": [
    "#| export\n",
    "import string\n",
    "import json\n",
    "import time\n",
    "import datetime\n",
    "from tqdm import tqdm\n",
    "import geojson\n",
    "\n",
    "import logging\n",
    "logging.basicConfig(\n",
    "    level=logging.INFO,\n",
    "    format=\"%(asctime)s - %(levelname)s - %(message)s\"\n",
    ")\n",
    "\n",
    "import requests\n",
    "import pandas as pd\n",
    "from fastcore.all import Path\n",
    "from traffic_data_bengaluru.utils import *"
   ]
  },
  {
   "cell_type": "code",
   "execution_count": null,
   "id": "96275d57",
   "metadata": {},
   "outputs": [],
   "source": []
  },
  {
   "cell_type": "code",
   "execution_count": null,
   "id": "79327c5d",
   "metadata": {},
   "outputs": [],
   "source": [
    "#| hide\n",
    "#| eval: false\n",
    "\n",
    "data_directory = Path('../data/bmtc/')\n",
    "data_directory.mkdir(exist_ok=True, parents=True)"
   ]
  },
  {
   "cell_type": "code",
   "execution_count": null,
   "id": "7ee8cdaa",
   "metadata": {},
   "outputs": [],
   "source": []
  },
  {
   "cell_type": "markdown",
   "id": "0951c323",
   "metadata": {},
   "source": [
    "# Functions"
   ]
  },
  {
   "cell_type": "code",
   "execution_count": null,
   "id": "2c3e11d4",
   "metadata": {},
   "outputs": [],
   "source": [
    "#| export\n",
    "def fetch_route_points(route_id: str, sleep_duration: float = 0.1):\n",
    "    \"\"\"Fetches geo-locations for a given BMTC `route_id` from the API.\"\"\"\n",
    "    time.sleep(sleep_duration)\n",
    "    url = \"https://bmtcmobileapi.karnataka.gov.in/WebAPI/RoutePoints\"\n",
    "\n",
    "    headers = {\n",
    "        \"Content-Type\": \"application/json\",\n",
    "        \"User-Agent\": \"Mozilla/5.0 (Macintosh; Intel Mac OS X 10_15_7) AppleWebKit/537.36 (KHTML, like Gecko) Chrome/138.0.0.0 Safari/537.36\",\n",
    "        \"lan\": \"en\"\n",
    "    }\n",
    "\n",
    "    payload = {\"routeid\": int(route_id)}\n",
    "    try:\n",
    "        response = requests.post(url, headers=headers, json=payload)\n",
    "        response.raise_for_status()\n",
    "        return response.json()\n",
    "    except requests.exceptions.RequestException as e:\n",
    "        print(f\"Error: {e}\")\n",
    "        return None"
   ]
  },
  {
   "cell_type": "code",
   "execution_count": null,
   "id": "dd2d7a28",
   "metadata": {},
   "outputs": [],
   "source": [
    "#| hide\n",
    "#| eval: false\n",
    "\n",
    "route_id = 3796\n",
    "route_points = fetch_route_points(route_id = route_id)\n",
    "print(json.dumps(route_points, indent=4))"
   ]
  },
  {
   "cell_type": "code",
   "execution_count": null,
   "id": "54660bf6",
   "metadata": {},
   "outputs": [],
   "source": []
  },
  {
   "cell_type": "code",
   "execution_count": null,
   "id": "d273105e",
   "metadata": {},
   "outputs": [],
   "source": [
    "#| export\n",
    "def get_route_id(filepath: Path):\n",
    "    \"\"\"The filepath has `route_id` at the end.\"\"\"\n",
    "    return filepath.name.split('.')[0]"
   ]
  },
  {
   "cell_type": "code",
   "execution_count": null,
   "id": "bc54fd77",
   "metadata": {},
   "outputs": [],
   "source": [
    "#| export\n",
    "def convert_route_to_geojson(route, properties):\n",
    "    \"\"\"Converts route into a geojson Feature.\"\"\"\n",
    "    if route is None:\n",
    "        return None\n",
    "    coordinates = []\n",
    "    for row in route['data']:\n",
    "        # longitude is first, latitude comes next.\n",
    "        coordinates.append([round(float(row['longitude']), 6), round(float(row['latitude']), 6)])\n",
    "    geometry = geojson.LineString(coordinates)\n",
    "    feature = geojson.Feature(geometry = geometry, properties = properties)\n",
    "    return feature"
   ]
  },
  {
   "cell_type": "code",
   "execution_count": null,
   "id": "4e94f506",
   "metadata": {},
   "outputs": [],
   "source": [
    "#| hide\n",
    "#| eval: false\n",
    "\n",
    "feature = convert_route_to_geojson(route_points, {\"route_id\": route_id})\n",
    "print(json.dumps(feature, indent=4))"
   ]
  },
  {
   "cell_type": "code",
   "execution_count": null,
   "id": "994a41ed",
   "metadata": {},
   "outputs": [],
   "source": []
  },
  {
   "cell_type": "code",
   "execution_count": null,
   "id": "b275c59f",
   "metadata": {},
   "outputs": [],
   "source": [
    "#| hide\n",
    "import nbdev; nbdev.nbdev_export()"
   ]
  },
  {
   "cell_type": "code",
   "execution_count": null,
   "id": "93bf3b40",
   "metadata": {},
   "outputs": [],
   "source": []
  }
 ],
 "metadata": {
  "kernelspec": {
   "display_name": "python3",
   "language": "python",
   "name": "python3"
  }
 },
 "nbformat": 4,
 "nbformat_minor": 5
}

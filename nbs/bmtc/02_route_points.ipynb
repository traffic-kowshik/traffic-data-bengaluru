{
 "cells": [
  {
   "cell_type": "markdown",
   "id": "5c912443",
   "metadata": {},
   "source": [
    "# 2. Route Points"
   ]
  },
  {
   "cell_type": "code",
   "execution_count": null,
   "id": "e13e16a6",
   "metadata": {},
   "outputs": [],
   "source": [
    "%load_ext autoreload\n",
    "%autoreload 2"
   ]
  },
  {
   "cell_type": "code",
   "execution_count": null,
   "id": "8a3019f0",
   "metadata": {},
   "outputs": [],
   "source": [
    "#| default_exp bmtc.route_points"
   ]
  },
  {
   "cell_type": "code",
   "execution_count": null,
   "id": "931b65c6",
   "metadata": {},
   "outputs": [],
   "source": [
    "#| hide\n",
    "from nbdev.showdoc import *"
   ]
  },
  {
   "cell_type": "code",
   "execution_count": null,
   "id": "7f1448ce",
   "metadata": {},
   "outputs": [],
   "source": [
    "#| export\n",
    "import string\n",
    "import json\n",
    "import time\n",
    "import datetime\n",
    "from tqdm import tqdm\n",
    "import geojson\n",
    "\n",
    "import requests\n",
    "import pandas as pd\n",
    "from fastcore.all import Path\n",
    "from nbdev.config import get_config\n",
    "\n",
    "from traffic_data_bengaluru.utils import *\n",
    "from traffic_data_bengaluru.bmtc.routes import get_routes"
   ]
  },
  {
   "cell_type": "code",
   "execution_count": null,
   "id": "a112450c",
   "metadata": {},
   "outputs": [],
   "source": [
    "#| export\n",
    "import logging\n",
    "logging.basicConfig(\n",
    "    level=logging.INFO,\n",
    "    format=\"%(asctime)s [%(levelname)s] %(message)s\"\n",
    ")\n",
    "logger = logging.getLogger(__name__)"
   ]
  },
  {
   "cell_type": "code",
   "execution_count": null,
   "id": "79327c5d",
   "metadata": {},
   "outputs": [],
   "source": [
    "#| hide\n",
    "#| eval: false\n",
    "data_directory = get_data_directory() / \"bmtc\""
   ]
  },
  {
   "cell_type": "code",
   "execution_count": null,
   "id": "1d40b20a",
   "metadata": {},
   "outputs": [],
   "source": []
  },
  {
   "cell_type": "code",
   "execution_count": null,
   "id": "7ee8cdaa",
   "metadata": {},
   "outputs": [],
   "source": []
  },
  {
   "cell_type": "markdown",
   "id": "0951c323",
   "metadata": {},
   "source": [
    "# Functions"
   ]
  },
  {
   "cell_type": "code",
   "execution_count": null,
   "id": "2c3e11d4",
   "metadata": {},
   "outputs": [],
   "source": [
    "#| export\n",
    "def fetch_route_points(route_id: str, sleep_duration: float = 0.1):\n",
    "    \"\"\"Fetches geo-locations for a given BMTC `route_id` from the API.\"\"\"\n",
    "    time.sleep(sleep_duration)\n",
    "    url = \"https://bmtcmobileapi.karnataka.gov.in/WebAPI/RoutePoints\"\n",
    "\n",
    "    headers = {\n",
    "        \"Content-Type\": \"application/json\",\n",
    "        \"User-Agent\": \"Mozilla/5.0 (Macintosh; Intel Mac OS X 10_15_7) AppleWebKit/537.36 (KHTML, like Gecko) Chrome/138.0.0.0 Safari/537.36\",\n",
    "        \"lan\": \"en\"\n",
    "    }\n",
    "\n",
    "    payload = {\"routeid\": int(route_id)}\n",
    "    try:\n",
    "        response = requests.post(url, headers=headers, json=payload)\n",
    "        response.raise_for_status()\n",
    "        return response.json()\n",
    "    except requests.exceptions.RequestException as e:\n",
    "        print(f\"Error: {e}\")\n",
    "        return None"
   ]
  },
  {
   "cell_type": "code",
   "execution_count": null,
   "id": "dd2d7a28",
   "metadata": {},
   "outputs": [],
   "source": [
    "#| hide\n",
    "#| eval: false\n",
    "\n",
    "sample_route_id = 3796\n",
    "route_points = fetch_route_points(route_id = sample_route_id)\n",
    "print(json.dumps(route_points, indent=4))"
   ]
  },
  {
   "cell_type": "code",
   "execution_count": null,
   "id": "54660bf6",
   "metadata": {},
   "outputs": [],
   "source": []
  },
  {
   "cell_type": "code",
   "execution_count": null,
   "id": "354cb5cd",
   "metadata": {},
   "outputs": [],
   "source": []
  },
  {
   "cell_type": "code",
   "execution_count": null,
   "id": "bc54fd77",
   "metadata": {},
   "outputs": [],
   "source": [
    "#| export\n",
    "def convert_route_to_geojson(route, properties):\n",
    "    \"\"\"Converts route into a geojson Feature.\"\"\"\n",
    "    if route is None:\n",
    "        return None\n",
    "    coordinates = []\n",
    "    for row in route['data']:\n",
    "        # longitude is first, latitude comes next.\n",
    "        coordinates.append([round(float(row['longitude']), 6), round(float(row['latitude']), 6)])\n",
    "    geometry = geojson.LineString(coordinates)\n",
    "    feature = geojson.Feature(geometry = geometry, properties = properties)\n",
    "    return feature"
   ]
  },
  {
   "cell_type": "code",
   "execution_count": null,
   "id": "4e94f506",
   "metadata": {},
   "outputs": [],
   "source": [
    "#| hide\n",
    "#| eval: false\n",
    "feature = convert_route_to_geojson(route_points, {\"route_id\": sample_route_id})\n",
    "print(json.dumps(feature, indent=4))"
   ]
  },
  {
   "cell_type": "code",
   "execution_count": null,
   "id": "7b8b3326",
   "metadata": {},
   "outputs": [],
   "source": []
  },
  {
   "cell_type": "code",
   "execution_count": null,
   "id": "48b9b351",
   "metadata": {},
   "outputs": [],
   "source": []
  },
  {
   "cell_type": "code",
   "execution_count": null,
   "id": "04f2934b",
   "metadata": {},
   "outputs": [],
   "source": [
    "#| export\n",
    "def get_route_id(filepath: Path):\n",
    "    \"\"\"The filepath has `route_id` at the end.\"\"\"\n",
    "    return filepath.name.split('.')[0]"
   ]
  },
  {
   "cell_type": "code",
   "execution_count": null,
   "id": "5c491597",
   "metadata": {},
   "outputs": [],
   "source": []
  },
  {
   "cell_type": "code",
   "execution_count": null,
   "id": "97a3d57f",
   "metadata": {},
   "outputs": [],
   "source": [
    "# | export\n",
    "def task_fetch_route_points(data_directory: Path):\n",
    "    logger.info(\"Fetching route points ...\")\n",
    "\n",
    "    df_routes = get_routes(data_directory)\n",
    "    now = str(int(datetime.datetime.now().timestamp()))\n",
    "\n",
    "    raw_directory = data_directory / 'raw' / 'route_points' / now\n",
    "    raw_directory.mkdir(exist_ok=True, parents=True)\n",
    "\n",
    "    for index, row in tqdm(df_routes.iterrows(), total = df_routes.shape[0], desc = 'Fetching route points'):\n",
    "        trip_details = fetch_route_points(route_id = row['route_id']) \n",
    "        with open(raw_directory / f\"{row['route_id']}.json\", \"w\") as f:\n",
    "            json.dump(trip_details, f, indent = 4)\n",
    "\n",
    "    logger.info(\"Processing route points ...\")\n",
    "    cleaned_directory = data_directory / 'cleaned' / 'route_points' / now\n",
    "    cleaned_directory.mkdir(exist_ok=True, parents=True)\n",
    "\n",
    "    features = []\n",
    "    for filepath in tqdm(raw_directory.ls(), total = raw_directory.ls().__len__(), desc = 'Converting route points to geojson'):\n",
    "        route = read_file(filepath)\n",
    "        if route is None:\n",
    "            continue\n",
    "        route_id = get_route_id(filepath)\n",
    "        properties = {'route_id': route_id}\n",
    "        \n",
    "        feature = convert_route_to_geojson(route, properties)\n",
    "        with open(cleaned_directory / f\"{route_id}.json\", \"w\") as f:\n",
    "            json.dump(feature, f, indent = 4)\n",
    "        features.append(feature)\n",
    "\n",
    "    # Write to a file as a geojson FeatureCollection.\n",
    "    fc = geojson.FeatureCollection(features = features)\n",
    "    with open(data_directory / 'cleaned' / 'route_points' / f'{now}.geojson', 'w') as f:\n",
    "        json.dump(fc, f)"
   ]
  },
  {
   "cell_type": "code",
   "execution_count": null,
   "id": "b469253e",
   "metadata": {},
   "outputs": [],
   "source": [
    "#| hide\n",
    "#| eval: false\n",
    "\n",
    "task_fetch_route_points(data_directory=data_directory)"
   ]
  },
  {
   "cell_type": "code",
   "execution_count": null,
   "id": "994a41ed",
   "metadata": {},
   "outputs": [],
   "source": []
  },
  {
   "cell_type": "code",
   "execution_count": null,
   "id": "b275c59f",
   "metadata": {},
   "outputs": [],
   "source": [
    "#| hide\n",
    "import nbdev; nbdev.nbdev_export()"
   ]
  },
  {
   "cell_type": "code",
   "execution_count": null,
   "id": "93bf3b40",
   "metadata": {},
   "outputs": [],
   "source": []
  }
 ],
 "metadata": {
  "kernelspec": {
   "display_name": "python3",
   "language": "python",
   "name": "python3"
  }
 },
 "nbformat": 4,
 "nbformat_minor": 5
}

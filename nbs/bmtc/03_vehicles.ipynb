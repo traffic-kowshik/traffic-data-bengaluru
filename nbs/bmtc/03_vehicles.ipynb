{
 "cells": [
  {
   "cell_type": "markdown",
   "id": "f9446b7f",
   "metadata": {},
   "source": [
    "# 3. Vehicles"
   ]
  },
  {
   "cell_type": "markdown",
   "id": "6c0f1269",
   "metadata": {},
   "source": [
    "## Sample request\n",
    "\n",
    "```bash\n",
    "```\n"
   ]
  },
  {
   "cell_type": "markdown",
   "id": "f5eec55d",
   "metadata": {},
   "source": [
    "## Sample response\n",
    "\n",
    "```json\n",
    "{\n",
    "    \"data\": [\n",
    "        {\n",
    "            \"vehicleid\": 19100,\n",
    "            \"vehicleregno\": \"KA53F0007\",\n",
    "            \"responsecode\": 200\n",
    "        },\n",
    "        {\n",
    "            \"vehicleid\": 18830,\n",
    "            \"vehicleregno\": \"KA57F0007\",\n",
    "            \"responsecode\": 200\n",
    "        }\n",
    "    ],\n",
    "    \"Message\": \"Success\",\n",
    "    \"Issuccess\": true,\n",
    "    \"exception\": null,\n",
    "    \"RowCount\": 2,\n",
    "    \"responsecode\": 200\n",
    "}\n",
    "```"
   ]
  },
  {
   "cell_type": "code",
   "execution_count": null,
   "id": "dab31538",
   "metadata": {},
   "outputs": [],
   "source": []
  },
  {
   "cell_type": "code",
   "execution_count": null,
   "id": "58e45652",
   "metadata": {},
   "outputs": [],
   "source": [
    "%load_ext autoreload\n",
    "%autoreload 2"
   ]
  },
  {
   "cell_type": "code",
   "execution_count": null,
   "id": "bb1fd784",
   "metadata": {},
   "outputs": [],
   "source": [
    "#| default_exp bmtc.vehicles"
   ]
  },
  {
   "cell_type": "code",
   "execution_count": null,
   "id": "9717fd31",
   "metadata": {},
   "outputs": [],
   "source": [
    "#| hide\n",
    "from nbdev.showdoc import *"
   ]
  },
  {
   "cell_type": "code",
   "execution_count": null,
   "id": "577a646d",
   "metadata": {},
   "outputs": [],
   "source": [
    "#| export\n",
    "import string\n",
    "import json\n",
    "import time\n",
    "import datetime\n",
    "from tqdm import tqdm\n",
    "import geojson\n",
    "\n",
    "import requests\n",
    "import pandas as pd\n",
    "from fastcore.all import Path\n",
    "from traffic_data_bengaluru.utils import *\n",
    "from nbdev.config import get_config"
   ]
  },
  {
   "cell_type": "code",
   "execution_count": null,
   "id": "3481d049",
   "metadata": {},
   "outputs": [],
   "source": [
    "#| export\n",
    "import logging\n",
    "logging.basicConfig(\n",
    "    level=logging.INFO,\n",
    "    format=\"%(asctime)s [%(levelname)s] %(message)s\"\n",
    ")\n",
    "logger = logging.getLogger(__name__)"
   ]
  },
  {
   "cell_type": "code",
   "execution_count": null,
   "id": "594c23b0",
   "metadata": {},
   "outputs": [],
   "source": []
  },
  {
   "cell_type": "code",
   "execution_count": null,
   "id": "6607026c",
   "metadata": {},
   "outputs": [],
   "source": [
    "#| hide\n",
    "#| eval: false\n",
    "\n",
    "data_directory = get_data_directory() / \"bmtc\""
   ]
  },
  {
   "cell_type": "code",
   "execution_count": null,
   "id": "d52390b5",
   "metadata": {},
   "outputs": [],
   "source": []
  },
  {
   "cell_type": "markdown",
   "id": "94986b90",
   "metadata": {},
   "source": [
    "# Functions"
   ]
  },
  {
   "cell_type": "code",
   "execution_count": null,
   "id": "4bdc4ac5",
   "metadata": {},
   "outputs": [],
   "source": [
    "#| export\n",
    "def fetch_vehicles(pattern: str = \"\", sleep_duration: float = 0.1):\n",
    "    \"\"\"Fetch vehicles matching the given registration number pattern from BMTC API.\"\"\"\n",
    "    time.sleep(sleep_duration)\n",
    "    url = \"https://bmtcmobileapi.karnataka.gov.in/WebAPI/ListVehicles\"\n",
    "\n",
    "    headers = {\n",
    "        \"Content-Type\": \"application/json\",\n",
    "        \"User-Agent\": \"Mozilla/5.0 (Macintosh; Intel Mac OS X 10_15_7) AppleWebKit/537.36 (KHTML, like Gecko) Chrome/138.0.0.0 Safari/537.36\",\n",
    "        \"lan\": \"en\"\n",
    "    }\n",
    "\n",
    "    if pattern != '':\n",
    "        payload = {\"vehicleRegNo\": pattern}\n",
    "        try:\n",
    "            response = requests.post(url, headers=headers, json=payload)\n",
    "            response.raise_for_status()\n",
    "            return response.json()['data']\n",
    "        except requests.exceptions.RequestException as e:\n",
    "            print(f\"Error: {e}\")\n",
    "            return None\n",
    "    else:\n",
    "        vehicles = []\n",
    "        characters = string.digits + string.ascii_lowercase\n",
    "        for pattern in tqdm(characters, desc = 'Fetching vehicles'):\n",
    "            vehicles += fetch_vehicles(pattern)\n",
    "        return vehicles"
   ]
  },
  {
   "cell_type": "code",
   "execution_count": null,
   "id": "bc48c038",
   "metadata": {},
   "outputs": [],
   "source": [
    "#| hide\n",
    "#| eval: false\n",
    "vehicles = fetch_vehicles(pattern='0123')\n",
    "print(json.dumps(vehicles, indent=4))"
   ]
  },
  {
   "cell_type": "code",
   "execution_count": null,
   "id": "e4444e68",
   "metadata": {},
   "outputs": [],
   "source": []
  },
  {
   "cell_type": "code",
   "execution_count": null,
   "id": "2453811c",
   "metadata": {},
   "outputs": [],
   "source": [
    "#| export\n",
    "def process_vehicles(vehicles):\n",
    "    \"\"\"Process and clean vehicle data, returning a DataFrame with `vehicle_id` and `registration_number`.\"\"\"\n",
    "    df_vehicles = pd.DataFrame(vehicles)\n",
    "    df_vehicles = df_vehicles.drop_duplicates(subset=[\"vehicleregno\"], keep=\"first\")\n",
    "\n",
    "    df_vehicles.rename(columns = {'vehicleid': 'vehicle_id', 'vehicleregno': 'registration_number'}, inplace=True)\n",
    "    df_vehicles = df_vehicles.sort_values(by='vehicle_id').reset_index(drop=True)\n",
    "    columns = ['vehicle_id', 'registration_number']\n",
    "    return df_vehicles[columns]"
   ]
  },
  {
   "cell_type": "code",
   "execution_count": null,
   "id": "47ac93cc",
   "metadata": {},
   "outputs": [],
   "source": [
    "#| hide\n",
    "#| eval: false\n",
    "df_vehicles = process_vehicles(vehicles)\n",
    "df_vehicles"
   ]
  },
  {
   "cell_type": "code",
   "execution_count": null,
   "id": "264eeb64",
   "metadata": {},
   "outputs": [],
   "source": []
  },
  {
   "cell_type": "code",
   "execution_count": null,
   "id": "c05e9343",
   "metadata": {},
   "outputs": [],
   "source": [
    "# | export\n",
    "def task_fetch_vehicles(data_directory: Path):\n",
    "    filename = f'{str(int(datetime.datetime.now().timestamp()))}'\n",
    "\n",
    "    logger.info(\"Fetching vehicles ...\")\n",
    "    vehicles = fetch_vehicles()\n",
    "\n",
    "    filepath = data_directory / 'raw' / 'vehicles' / f'{filename}.json'\n",
    "    filepath.parent.mkdir(parents=True, exist_ok=True)\n",
    "    with open(filepath, 'w') as f:\n",
    "        json.dump(vehicles, f, indent=2)\n",
    "    logger.info(f\"Raw vehicles saved successfully to {filepath}\")\n",
    "\n",
    "    logger.info(\"Processing vehicles ...\")\n",
    "    df_vehicles = process_vehicles(vehicles)\n",
    "\n",
    "    filepath = data_directory / 'cleaned' / 'vehicles' / f'{filename}.csv'\n",
    "    filepath.parent.mkdir(parents=True, exist_ok=True)\n",
    "    df_vehicles.to_csv(filepath, index=False)\n",
    "    logger.info(f\"Processed vehicles saved successfully to {filepath}\")"
   ]
  },
  {
   "cell_type": "code",
   "execution_count": null,
   "id": "aa35f6b5",
   "metadata": {},
   "outputs": [],
   "source": [
    "#| hide\n",
    "#| eval: false\n",
    "\n",
    "task_fetch_vehicles(data_directory=data_directory)"
   ]
  },
  {
   "cell_type": "code",
   "execution_count": null,
   "id": "e6b56028",
   "metadata": {},
   "outputs": [],
   "source": []
  },
  {
   "cell_type": "code",
   "execution_count": null,
   "id": "40f9c5b5",
   "metadata": {},
   "outputs": [],
   "source": [
    "#| export\n",
    "def get_vehicles(data_directory: Path):\n",
    "    return process_vehicles(read_file(extract_file(get_latest_file(data_directory / 'raw' / 'vehicles'))))"
   ]
  },
  {
   "cell_type": "code",
   "execution_count": null,
   "id": "2ea9d571",
   "metadata": {},
   "outputs": [],
   "source": [
    "#| hide\n",
    "#| eval: false\n",
    "df_vehicles = get_vehicles(data_directory)\n",
    "print(df_vehicles.shape)\n",
    "df_vehicles.head()"
   ]
  },
  {
   "cell_type": "code",
   "execution_count": null,
   "id": "58c2619b",
   "metadata": {},
   "outputs": [],
   "source": []
  },
  {
   "cell_type": "code",
   "execution_count": null,
   "id": "8ed67405",
   "metadata": {},
   "outputs": [],
   "source": [
    "#| hide\n",
    "import nbdev; nbdev.nbdev_export()"
   ]
  },
  {
   "cell_type": "code",
   "execution_count": null,
   "id": "e5d7166f",
   "metadata": {},
   "outputs": [],
   "source": []
  }
 ],
 "metadata": {
  "kernelspec": {
   "display_name": "python3",
   "language": "python",
   "name": "python3"
  }
 },
 "nbformat": 4,
 "nbformat_minor": 5
}

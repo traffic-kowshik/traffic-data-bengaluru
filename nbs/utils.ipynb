{
 "cells": [
  {
   "cell_type": "markdown",
   "id": "32aa579a",
   "metadata": {},
   "source": [
    "# Utils\n",
    "\n",
    "> Utility functions used throughout the project.\n"
   ]
  },
  {
   "cell_type": "code",
   "execution_count": null,
   "id": "85072de0",
   "metadata": {},
   "outputs": [],
   "source": [
    "%load_ext autoreload\n",
    "%autoreload 2"
   ]
  },
  {
   "cell_type": "code",
   "execution_count": null,
   "id": "03ff64c9",
   "metadata": {},
   "outputs": [],
   "source": [
    "#| default_exp utils"
   ]
  },
  {
   "cell_type": "code",
   "execution_count": null,
   "id": "f85c7c09",
   "metadata": {},
   "outputs": [],
   "source": [
    "#| hide\n",
    "from nbdev.showdoc import *"
   ]
  },
  {
   "cell_type": "code",
   "execution_count": null,
   "id": "0b6eaa07",
   "metadata": {},
   "outputs": [],
   "source": []
  },
  {
   "cell_type": "code",
   "execution_count": null,
   "id": "3001cd71",
   "metadata": {},
   "outputs": [],
   "source": [
    "# | export\n",
    "import json\n",
    "import pandas as pd\n",
    "from fastcore.all import Path"
   ]
  },
  {
   "cell_type": "code",
   "execution_count": null,
   "id": "93472bbe",
   "metadata": {},
   "outputs": [],
   "source": [
    "# | export\n",
    "def get_latest_directory(directory: Path):\n",
    "    \"Return the latest directory, sorting by name for a given directory.\"\n",
    "    latest = (directory \n",
    "        .ls() \n",
    "        .filter(lambda f: not f.name.startswith('.')) \n",
    "        .sorted(key=lambda f: f.name)[-1]\n",
    "    )\n",
    "    return latest"
   ]
  },
  {
   "cell_type": "code",
   "execution_count": null,
   "id": "8a8f9ceb",
   "metadata": {},
   "outputs": [],
   "source": [
    "#| export\n",
    "def read_file(filepath: Path, format: str = 'json'):\n",
    "    \"Read a file in either JSON or CSV format and return its contents.\"\n",
    "    with open(filepath) as f:\n",
    "        if format == 'json':\n",
    "            return json.load(f)\n",
    "        elif format == 'csv':\n",
    "            return pd.read_csv(f)\n",
    "        else:\n",
    "            raise ValueError(f\"Unsupported format: {format}\")"
   ]
  },
  {
   "cell_type": "code",
   "execution_count": null,
   "id": "a5dfc747",
   "metadata": {},
   "outputs": [],
   "source": []
  },
  {
   "cell_type": "code",
   "execution_count": null,
   "id": "dc790ba9",
   "metadata": {},
   "outputs": [],
   "source": [
    "#| hide\n",
    "import nbdev; nbdev.nbdev_export()"
   ]
  }
 ],
 "metadata": {
  "kernelspec": {
   "display_name": "python3",
   "language": "python",
   "name": "python3"
  }
 },
 "nbformat": 4,
 "nbformat_minor": 5
}

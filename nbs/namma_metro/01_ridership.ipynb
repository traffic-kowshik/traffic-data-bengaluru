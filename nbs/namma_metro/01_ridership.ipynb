{
 "cells": [
  {
   "cell_type": "markdown",
   "id": "81616232",
   "metadata": {},
   "source": [
    "# 1. Ridership"
   ]
  },
  {
   "cell_type": "code",
   "execution_count": null,
   "id": "1472dc2e",
   "metadata": {},
   "outputs": [],
   "source": [
    "%load_ext autoreload\n",
    "%autoreload 2"
   ]
  },
  {
   "cell_type": "code",
   "execution_count": null,
   "id": "a9834961",
   "metadata": {},
   "outputs": [],
   "source": [
    "#| default_exp namma_metro.ridership"
   ]
  },
  {
   "cell_type": "code",
   "execution_count": null,
   "id": "cfa46a20",
   "metadata": {},
   "outputs": [],
   "source": [
    "#| hide\n",
    "\n",
    "from nbdev.showdoc import *"
   ]
  },
  {
   "cell_type": "code",
   "execution_count": null,
   "id": "cda8cc25",
   "metadata": {},
   "outputs": [],
   "source": [
    "#| export\n",
    "\n",
    "import os\n",
    "import time\n",
    "import json\n",
    "import requests\n",
    "\n",
    "from fastcore.all import Path\n",
    "import pandas as pd\n",
    "\n",
    "from dotenv import load_dotenv\n",
    "load_dotenv()\n",
    "\n",
    "import inflection\n",
    "from traffic_data_bengaluru.utils import *"
   ]
  },
  {
   "cell_type": "code",
   "execution_count": null,
   "id": "7f263275",
   "metadata": {},
   "outputs": [],
   "source": [
    "#| export\n",
    "\n",
    "import logging\n",
    "logging.basicConfig(\n",
    "    level=logging.INFO,\n",
    "    format=\"%(asctime)s [%(levelname)s] %(message)s\"\n",
    ")\n",
    "logger = logging.getLogger(__name__)"
   ]
  },
  {
   "cell_type": "code",
   "execution_count": null,
   "id": "804f4bf1",
   "metadata": {},
   "outputs": [],
   "source": [
    "#| hide\n",
    "#| eval: false\n",
    "\n",
    "data_directory = get_data_directory()"
   ]
  },
  {
   "cell_type": "code",
   "execution_count": null,
   "id": "7e07d769",
   "metadata": {},
   "outputs": [],
   "source": []
  },
  {
   "cell_type": "code",
   "execution_count": null,
   "id": "4838ec68",
   "metadata": {},
   "outputs": [],
   "source": [
    "# | export\n",
    "def fetch_ridership(sleep_duration: float = 0.1):\n",
    "    \"\"\"Fetch ridership data from the BMRC API.\"\"\"\n",
    "    time.sleep(sleep_duration)\n",
    "\n",
    "    token = os.environ.get(\"BMRC_TOKEN\")\n",
    "\n",
    "    \n",
    "    url = \"https://english.bmrc.co.in:8282/api/users/getridership\"\n",
    "    headers = {\n",
    "        \"Accept\": \"application/json\",\n",
    "        \"Authorization\": f\"Bearer {token}\"\n",
    "    }\n",
    "    response = requests.get(url, headers=headers, verify=False)\n",
    "    response.raise_for_status()\n",
    "    return response.json()"
   ]
  },
  {
   "cell_type": "code",
   "execution_count": null,
   "id": "de7328a8",
   "metadata": {},
   "outputs": [
    {
     "name": "stdout",
     "output_type": "stream",
     "text": [
      "{\n",
      "    \"success\": \"success\",\n",
      "    \"results\": [\n",
      "        {\n",
      "            \"TotalPassengers\": 1033577,\n",
      "            \"TotalSmartCards\": 495308,\n",
      "            \"StoredValueCard\": 494122,\n",
      "            \"OneDayPass\": 268,\n",
      "            \"ThreeDayPass\": 30,\n",
      "            \"FiveDayPass\": 888,\n",
      "            \"Tokens\": 259305,\n",
      "            \"TotalQR\": 102924,\n",
      "            \"QRNammaMetro\": 70109,\n",
      "            \"QRWhatsApp\": 34780,\n",
      "            \"QRPaytm\": 5545,\n",
      "            \"TotalNCMC\": 65364,\n",
      "            \"GroupTicket\": 242,\n",
      "            \"RidershipDate\": \"13-10-2025\"\n",
      "        }\n",
      "    ]\n",
      "}\n"
     ]
    }
   ],
   "source": [
    "#| hide\n",
    "#| eval: false\n",
    "\n",
    "ridership = fetch_ridership()\n",
    "print(json.dumps(ridership, indent=4))"
   ]
  },
  {
   "cell_type": "code",
   "execution_count": null,
   "id": "f952cf2e",
   "metadata": {},
   "outputs": [],
   "source": []
  },
  {
   "cell_type": "code",
   "execution_count": null,
   "id": "e670dd59",
   "metadata": {},
   "outputs": [],
   "source": [
    "# | export\n",
    "def task_fetch_ridership(data_directory: Path):\n",
    "    logger.info(\"Fetching ridership ...\")\n",
    "\n",
    "    filepath = data_directory / \"namma_metro\" / 'raw' / 'ridership.jsonl'\n",
    "    filepath.parent.mkdir(parents=True, exist_ok=True)\n",
    "\n",
    "    ridership = fetch_ridership()\n",
    "    append_to_file(filepath, ridership)\n",
    "\n",
    "    logger.info(f\"Ridership data saved successfully.\")"
   ]
  },
  {
   "cell_type": "code",
   "execution_count": null,
   "id": "c2d4242f",
   "metadata": {},
   "outputs": [
    {
     "name": "stderr",
     "output_type": "stream",
     "text": [
      "2025-10-15 07:21:29,280 [INFO] Fetching ridership ...\n",
      "2025-10-15 07:21:30,891 [INFO] Record already exists.\n",
      "2025-10-15 07:21:30,891 [INFO] Ridership data saved successfully.\n"
     ]
    }
   ],
   "source": [
    "#| hide\n",
    "#| eval: false\n",
    "\n",
    "task_fetch_ridership(data_directory)"
   ]
  },
  {
   "cell_type": "code",
   "execution_count": null,
   "id": "69ebce74",
   "metadata": {},
   "outputs": [],
   "source": []
  },
  {
   "cell_type": "code",
   "execution_count": null,
   "id": "d389cd9e",
   "metadata": {},
   "outputs": [],
   "source": [
    "#| export\n",
    "\n",
    "def get_ridership(data_directory: Path):\n",
    "    filepath = data_directory / \"namma_metro\" / \"raw\" / \"ridership.jsonl\"\n",
    "    records = []\n",
    "    with open(filepath, \"r\") as f:\n",
    "        for line in f:\n",
    "            item = json.loads(line)\n",
    "            results = item.get(\"results\", [])\n",
    "            if results:\n",
    "                records.append(results[0])\n",
    "\n",
    "    df = pd.DataFrame(records)\n",
    "    df.columns = [inflection.underscore(col) for col in df.columns]\n",
    "\n",
    "    df['ridership_date'] = pd.to_datetime(df['ridership_date'], format='%d-%m-%Y').dt.date\n",
    "    df = df.sort_values(by='ridership_date', ascending=False)\n",
    "    \n",
    "    cols = ['ridership_date'] + [col for col in df.columns if col != 'ridership_date']\n",
    "    df = df[cols]\n",
    "    return df"
   ]
  },
  {
   "cell_type": "code",
   "execution_count": null,
   "id": "7045f569",
   "metadata": {},
   "outputs": [
    {
     "data": {
      "text/html": [
       "<div>\n",
       "<style scoped>\n",
       "    .dataframe tbody tr th:only-of-type {\n",
       "        vertical-align: middle;\n",
       "    }\n",
       "\n",
       "    .dataframe tbody tr th {\n",
       "        vertical-align: top;\n",
       "    }\n",
       "\n",
       "    .dataframe thead th {\n",
       "        text-align: right;\n",
       "    }\n",
       "</style>\n",
       "<table border=\"1\" class=\"dataframe\">\n",
       "  <thead>\n",
       "    <tr style=\"text-align: right;\">\n",
       "      <th></th>\n",
       "      <th>ridership_date</th>\n",
       "      <th>total_passengers</th>\n",
       "      <th>total_smart_cards</th>\n",
       "      <th>stored_value_card</th>\n",
       "      <th>one_day_pass</th>\n",
       "      <th>three_day_pass</th>\n",
       "      <th>five_day_pass</th>\n",
       "      <th>tokens</th>\n",
       "      <th>total_qr</th>\n",
       "      <th>qr_namma_metro</th>\n",
       "      <th>qr_whats_app</th>\n",
       "      <th>qr_paytm</th>\n",
       "      <th>total_ncmc</th>\n",
       "      <th>group_ticket</th>\n",
       "    </tr>\n",
       "  </thead>\n",
       "  <tbody>\n",
       "    <tr>\n",
       "      <th>1</th>\n",
       "      <td>2025-10-13</td>\n",
       "      <td>1033577</td>\n",
       "      <td>495308</td>\n",
       "      <td>494122</td>\n",
       "      <td>268</td>\n",
       "      <td>30</td>\n",
       "      <td>888</td>\n",
       "      <td>259305</td>\n",
       "      <td>102924</td>\n",
       "      <td>70109</td>\n",
       "      <td>34780</td>\n",
       "      <td>5545</td>\n",
       "      <td>65364</td>\n",
       "      <td>242</td>\n",
       "    </tr>\n",
       "    <tr>\n",
       "      <th>0</th>\n",
       "      <td>2025-10-11</td>\n",
       "      <td>933538</td>\n",
       "      <td>297891</td>\n",
       "      <td>297354</td>\n",
       "      <td>330</td>\n",
       "      <td>79</td>\n",
       "      <td>128</td>\n",
       "      <td>311567</td>\n",
       "      <td>143606</td>\n",
       "      <td>86498</td>\n",
       "      <td>44928</td>\n",
       "      <td>7815</td>\n",
       "      <td>40890</td>\n",
       "      <td>343</td>\n",
       "    </tr>\n",
       "  </tbody>\n",
       "</table>\n",
       "</div>"
      ],
      "text/plain": [
       "  ridership_date  total_passengers  total_smart_cards  stored_value_card  \\\n",
       "1     2025-10-13           1033577             495308             494122   \n",
       "0     2025-10-11            933538             297891             297354   \n",
       "\n",
       "   one_day_pass  three_day_pass  five_day_pass  tokens  total_qr  \\\n",
       "1           268              30            888  259305    102924   \n",
       "0           330              79            128  311567    143606   \n",
       "\n",
       "   qr_namma_metro  qr_whats_app  qr_paytm  total_ncmc  group_ticket  \n",
       "1           70109         34780      5545       65364           242  \n",
       "0           86498         44928      7815       40890           343  "
      ]
     },
     "execution_count": null,
     "metadata": {},
     "output_type": "execute_result"
    }
   ],
   "source": [
    "#| hide\n",
    "#| eval: false\n",
    "\n",
    "get_ridership(data_directory)"
   ]
  },
  {
   "cell_type": "code",
   "execution_count": null,
   "id": "2c1f7aaf",
   "metadata": {},
   "outputs": [],
   "source": []
  }
 ],
 "metadata": {
  "kernelspec": {
   "display_name": "python3",
   "language": "python",
   "name": "python3"
  }
 },
 "nbformat": 4,
 "nbformat_minor": 5
}

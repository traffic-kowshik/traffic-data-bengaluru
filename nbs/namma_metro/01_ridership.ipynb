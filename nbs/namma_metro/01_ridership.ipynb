{
 "cells": [
  {
   "cell_type": "markdown",
   "id": "81616232",
   "metadata": {},
   "source": [
    "# 1. Ridership"
   ]
  },
  {
   "cell_type": "code",
   "execution_count": null,
   "id": "1472dc2e",
   "metadata": {},
   "outputs": [],
   "source": [
    "%load_ext autoreload\n",
    "%autoreload 2"
   ]
  },
  {
   "cell_type": "code",
   "execution_count": null,
   "id": "a9834961",
   "metadata": {},
   "outputs": [],
   "source": [
    "#| default_exp namma_metro.ridership"
   ]
  },
  {
   "cell_type": "code",
   "execution_count": null,
   "id": "cfa46a20",
   "metadata": {},
   "outputs": [],
   "source": [
    "#| hide\n",
    "\n",
    "from nbdev.showdoc import *"
   ]
  },
  {
   "cell_type": "code",
   "execution_count": null,
   "id": "cda8cc25",
   "metadata": {},
   "outputs": [],
   "source": [
    "#| export\n",
    "\n",
    "import os\n",
    "import time\n",
    "import json\n",
    "import requests\n",
    "\n",
    "from fastcore.all import Path\n",
    "\n",
    "from dotenv import load_dotenv\n",
    "load_dotenv()\n",
    "\n",
    "from traffic_data_bengaluru.utils import *"
   ]
  },
  {
   "cell_type": "code",
   "execution_count": null,
   "id": "7f263275",
   "metadata": {},
   "outputs": [],
   "source": [
    "#| export\n",
    "\n",
    "import logging\n",
    "logging.basicConfig(\n",
    "    level=logging.INFO,\n",
    "    format=\"%(asctime)s [%(levelname)s] %(message)s\"\n",
    ")\n",
    "logger = logging.getLogger(__name__)"
   ]
  },
  {
   "cell_type": "code",
   "execution_count": null,
   "id": "804f4bf1",
   "metadata": {},
   "outputs": [],
   "source": [
    "#| hide\n",
    "#| eval: false\n",
    "\n",
    "data_directory = get_data_directory() / \"namma_metro\""
   ]
  },
  {
   "cell_type": "code",
   "execution_count": null,
   "id": "1aac103f",
   "metadata": {},
   "outputs": [],
   "source": []
  },
  {
   "cell_type": "code",
   "execution_count": null,
   "id": "4838ec68",
   "metadata": {},
   "outputs": [],
   "source": [
    "# | export\n",
    "def fetch_ridership(sleep_duration: float = 0.1):\n",
    "    \"\"\"Fetch ridership data from the BMRC API.\"\"\"\n",
    "    time.sleep(sleep_duration)\n",
    "\n",
    "    token = os.environ.get(\"BMRC_TOKEN\")\n",
    "\n",
    "    \n",
    "    url = \"https://english.bmrc.co.in:8282/api/users/getridership\"\n",
    "    headers = {\n",
    "        \"Accept\": \"application/json\",\n",
    "        \"Authorization\": f\"Bearer {token}\"\n",
    "    }\n",
    "    response = requests.get(url, headers=headers, verify=False)\n",
    "    response.raise_for_status()\n",
    "    return response.json()"
   ]
  },
  {
   "cell_type": "code",
   "execution_count": null,
   "id": "de7328a8",
   "metadata": {},
   "outputs": [],
   "source": [
    "#| hide\n",
    "#| eval: false\n",
    "\n",
    "ridership = fetch_ridership()\n",
    "print(json.dumps(ridership, indent=4))"
   ]
  },
  {
   "cell_type": "code",
   "execution_count": null,
   "id": "f952cf2e",
   "metadata": {},
   "outputs": [],
   "source": []
  },
  {
   "cell_type": "code",
   "execution_count": null,
   "id": "e670dd59",
   "metadata": {},
   "outputs": [],
   "source": [
    "# | export\n",
    "def task_fetch_ridership(data_directory: Path):\n",
    "    logger.info(\"Fetching ridership ...\")\n",
    "\n",
    "    filepath = data_directory / 'raw' / 'ridership.jsonl'\n",
    "    filepath.parent.mkdir(parents=True, exist_ok=True)\n",
    "\n",
    "    ridership = fetch_ridership()\n",
    "    append_to_file(filepath, ridership)\n",
    "\n",
    "    logger.info(f\"Ridership data saved successfully.\")"
   ]
  },
  {
   "cell_type": "code",
   "execution_count": null,
   "id": "c2d4242f",
   "metadata": {},
   "outputs": [],
   "source": [
    "#| hide\n",
    "#| eval: false\n",
    "\n",
    "task_fetch_ridership(data_directory)"
   ]
  },
  {
   "cell_type": "code",
   "execution_count": null,
   "id": "69ebce74",
   "metadata": {},
   "outputs": [],
   "source": []
  }
 ],
 "metadata": {
  "kernelspec": {
   "display_name": ".venv",
   "language": "python",
   "name": "python3"
  },
  "language_info": {
   "name": "python",
   "version": "3.12.3"
  }
 },
 "nbformat": 4,
 "nbformat_minor": 5
}
